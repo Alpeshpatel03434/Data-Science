{
  "nbformat": 4,
  "nbformat_minor": 0,
  "metadata": {
    "kernelspec": {
      "display_name": "Python 3",
      "language": "python",
      "name": "python3"
    },
    "language_info": {
      "codemirror_mode": {
        "name": "ipython",
        "version": 3
      },
      "file_extension": ".py",
      "mimetype": "text/x-python",
      "name": "python",
      "nbconvert_exporter": "python",
      "pygments_lexer": "ipython3",
      "version": "3.8.6"
    },
    "colab": {
      "name": "Basic Descriptive Analysis.ipynb",
      "provenance": [],
      "include_colab_link": true
    }
  },
  "cells": [
    {
      "cell_type": "markdown",
      "metadata": {
        "id": "view-in-github",
        "colab_type": "text"
      },
      "source": [
        "<a href=\"https://colab.research.google.com/github/Alpeshpatel03434/Data-Science/blob/main/Basic_Descriptive_Analysis.ipynb\" target=\"_parent\"><img src=\"https://colab.research.google.com/assets/colab-badge.svg\" alt=\"Open In Colab\"/></a>"
      ]
    },
    {
      "cell_type": "markdown",
      "metadata": {
        "id": "lhOR3wvIgKQ9"
      },
      "source": [
        "## AIM  :  Consider dataset with student name, gender, Enrollmentno, 4 semester result with marks of each subject, his mobile number, city. Implement following in Python or R."
      ]
    },
    {
      "cell_type": "markdown",
      "metadata": {
        "id": "w5lNNdlpgKQ-"
      },
      "source": [
        "### Datasat link =  https://drive.google.com/file/d/1-L1cemdjctyfqTurO37RS918qyGUtZOd/view?usp=sharing"
      ]
    },
    {
      "cell_type": "markdown",
      "metadata": {
        "id": "w0ZDk-FVgKQ-"
      },
      "source": [
        "## Perform descriptive analysis and identify the data\n",
        "## type-"
      ]
    },
    {
      "cell_type": "code",
      "metadata": {
        "id": "f9l17Qa9gKQ_"
      },
      "source": [
        "import pandas as pd"
      ],
      "execution_count": null,
      "outputs": []
    },
    {
      "cell_type": "code",
      "metadata": {
        "id": "IbMI02SbgKRD"
      },
      "source": [
        "# Read excel file\n",
        "df = pd.read_excel(\"dataset.xlsx\")"
      ],
      "execution_count": null,
      "outputs": []
    },
    {
      "cell_type": "code",
      "metadata": {
        "id": "3dYdfywugKRJ",
        "outputId": "c4ecb1db-91bd-4018-d5f6-2e7a73eb93a3"
      },
      "source": [
        "df.head()"
      ],
      "execution_count": null,
      "outputs": [
        {
          "output_type": "execute_result",
          "data": {
            "text/html": [
              "<div>\n",
              "<style scoped>\n",
              "    .dataframe tbody tr th:only-of-type {\n",
              "        vertical-align: middle;\n",
              "    }\n",
              "\n",
              "    .dataframe tbody tr th {\n",
              "        vertical-align: top;\n",
              "    }\n",
              "\n",
              "    .dataframe thead th {\n",
              "        text-align: right;\n",
              "    }\n",
              "</style>\n",
              "<table border=\"1\" class=\"dataframe\">\n",
              "  <thead>\n",
              "    <tr style=\"text-align: right;\">\n",
              "      <th></th>\n",
              "      <th>Unnamed: 0</th>\n",
              "      <th>EnrollMent</th>\n",
              "      <th>Name</th>\n",
              "      <th>Gender</th>\n",
              "      <th>Contact Number</th>\n",
              "      <th>City</th>\n",
              "      <th>OS</th>\n",
              "      <th>DMATHS</th>\n",
              "      <th>OOPJ</th>\n",
              "      <th>PEM</th>\n",
              "      <th>COA</th>\n",
              "    </tr>\n",
              "  </thead>\n",
              "  <tbody>\n",
              "    <tr>\n",
              "      <th>0</th>\n",
              "      <td>0</td>\n",
              "      <td>180280110498</td>\n",
              "      <td>pawan kumar</td>\n",
              "      <td>m</td>\n",
              "      <td>925-001-1948</td>\n",
              "      <td>Surat</td>\n",
              "      <td>60</td>\n",
              "      <td>64</td>\n",
              "      <td>68</td>\n",
              "      <td>65</td>\n",
              "      <td>60</td>\n",
              "    </tr>\n",
              "    <tr>\n",
              "      <th>1</th>\n",
              "      <td>1</td>\n",
              "      <td>180280110499</td>\n",
              "      <td>sajid</td>\n",
              "      <td>m</td>\n",
              "      <td>187-532-0745</td>\n",
              "      <td>Bhuj</td>\n",
              "      <td>60</td>\n",
              "      <td>60</td>\n",
              "      <td>66</td>\n",
              "      <td>62</td>\n",
              "      <td>67</td>\n",
              "    </tr>\n",
              "    <tr>\n",
              "      <th>2</th>\n",
              "      <td>2</td>\n",
              "      <td>180280110500</td>\n",
              "      <td>dakshina murthi</td>\n",
              "      <td>m</td>\n",
              "      <td>826-564-9053</td>\n",
              "      <td>Amreli</td>\n",
              "      <td>64</td>\n",
              "      <td>60</td>\n",
              "      <td>62</td>\n",
              "      <td>65</td>\n",
              "      <td>66</td>\n",
              "    </tr>\n",
              "    <tr>\n",
              "      <th>3</th>\n",
              "      <td>3</td>\n",
              "      <td>180280110501</td>\n",
              "      <td>sohan singh urf rupsingh</td>\n",
              "      <td>m</td>\n",
              "      <td>474-640-1804</td>\n",
              "      <td>Vadodara</td>\n",
              "      <td>62</td>\n",
              "      <td>65</td>\n",
              "      <td>62</td>\n",
              "      <td>67</td>\n",
              "      <td>69</td>\n",
              "    </tr>\n",
              "    <tr>\n",
              "      <th>4</th>\n",
              "      <td>4</td>\n",
              "      <td>180280110502</td>\n",
              "      <td>rajendra pal</td>\n",
              "      <td>m</td>\n",
              "      <td>524-811-1376</td>\n",
              "      <td>Gandhinagar</td>\n",
              "      <td>64</td>\n",
              "      <td>66</td>\n",
              "      <td>65</td>\n",
              "      <td>63</td>\n",
              "      <td>70</td>\n",
              "    </tr>\n",
              "  </tbody>\n",
              "</table>\n",
              "</div>"
            ],
            "text/plain": [
              "   Unnamed: 0    EnrollMent                      Name Gender Contact Number  \\\n",
              "0           0  180280110498               pawan kumar      m   925-001-1948   \n",
              "1           1  180280110499                     sajid      m   187-532-0745   \n",
              "2           2  180280110500           dakshina murthi      m   826-564-9053   \n",
              "3           3  180280110501  sohan singh urf rupsingh      m   474-640-1804   \n",
              "4           4  180280110502              rajendra pal      m   524-811-1376   \n",
              "\n",
              "          City  OS  DMATHS  OOPJ  PEM  COA  \n",
              "0        Surat  60      64    68   65   60  \n",
              "1         Bhuj  60      60    66   62   67  \n",
              "2       Amreli  64      60    62   65   66  \n",
              "3     Vadodara  62      65    62   67   69  \n",
              "4  Gandhinagar  64      66    65   63   70  "
            ]
          },
          "metadata": {
            "tags": []
          },
          "execution_count": 3
        }
      ]
    },
    {
      "cell_type": "markdown",
      "metadata": {
        "id": "23MCAuV9gKRN"
      },
      "source": [
        "### 1) Count total no. of students in data set"
      ]
    },
    {
      "cell_type": "code",
      "metadata": {
        "id": "ysdv8YxYgKRN"
      },
      "source": [
        "#count no of students\n",
        "total_no_of_student = df['EnrollMent'].count()"
      ],
      "execution_count": null,
      "outputs": []
    },
    {
      "cell_type": "code",
      "metadata": {
        "id": "jg_bivesgKRP",
        "outputId": "50f50a30-95ee-4656-8e8a-ae7ca11284d0"
      },
      "source": [
        "print(\"Total no of Students = \",total_no_of_student-1)"
      ],
      "execution_count": null,
      "outputs": [
        {
          "output_type": "stream",
          "text": [
            "Total no of Students =  1000\n"
          ],
          "name": "stdout"
        }
      ]
    },
    {
      "cell_type": "markdown",
      "metadata": {
        "id": "zhHyn8usgKRS"
      },
      "source": [
        "### 2) Calculate mean of the marks for each subject"
      ]
    },
    {
      "cell_type": "code",
      "metadata": {
        "id": "7dFLskMdgKRS"
      },
      "source": [
        "#Mean of the marks for each subject\n",
        "Mean_os=df['OS'].mean()\n",
        "Mean_dmaths=df['DMATHS'].mean()\n",
        "Mean_oop=df['OOPJ'].mean()\n",
        "Mean_pem=df['PEM'].mean()\n",
        "Mean_coa=df['COA'].mean()"
      ],
      "execution_count": null,
      "outputs": []
    },
    {
      "cell_type": "code",
      "metadata": {
        "id": "yeCb7gKWgKRV",
        "outputId": "9d9651cb-0d8f-48c6-d9c3-5da8af01309c"
      },
      "source": [
        "print(\"Mean of OS = \",Mean_os)\n",
        "print(\"Mean of DMATHS = \",Mean_dmaths)\n",
        "print(\"Mean of OOPJ = \",Mean_oop)\n",
        "print(\"Mean of PEM = \",Mean_pem)\n",
        "print(\"Mean of COA = \",Mean_coa)"
      ],
      "execution_count": null,
      "outputs": [
        {
          "output_type": "stream",
          "text": [
            "Mean of OS =  46.81018981018981\n",
            "Mean of DMATHS =  47.3006993006993\n",
            "Mean of OOPJ =  47.59240759240759\n",
            "Mean of PEM =  46.56643356643357\n",
            "Mean of COA =  47.473526473526476\n"
          ],
          "name": "stdout"
        }
      ]
    },
    {
      "cell_type": "markdown",
      "metadata": {
        "id": "aIq8Fe2dgKRX"
      },
      "source": [
        "### 3) Find the highest and lowest marks in each subject in given data set"
      ]
    },
    {
      "cell_type": "code",
      "metadata": {
        "id": "38bczaK5gKRY"
      },
      "source": [
        "#Find the highest and lowest marks\n",
        "\n",
        "max_os=df['OS'].max()\n",
        "min_os=df['OS'].min()\n",
        "max_dmaths=df['DMATHS'].max()\n",
        "min_dmaths=df['DMATHS'].min()\n",
        "max_oop=df['OOPJ'].max()\n",
        "min_oop=df['OOPJ'].min()\n",
        "max_pem=df['PEM'].max()\n",
        "min_pem=df['PEM'].min()\n",
        "max_coa=df['COA'].max()\n",
        "min_coa=df['COA'].min()"
      ],
      "execution_count": null,
      "outputs": []
    },
    {
      "cell_type": "code",
      "metadata": {
        "id": "KN9uM8-6gKRa",
        "outputId": "3f9c2a02-04b9-4f59-fe7c-a62be05b5ced"
      },
      "source": [
        "print(\" highest marks of OS = \",max_os)\n",
        "print(\" lovest marks of OS = \",min_os)\n",
        "print(\"\\n highest marks of DMATHS = \",max_dmaths)\n",
        "print(\" lovest marks of DMATHS = \",min_dmaths)\n",
        "print(\"\\n highest marks of OOPJ = \",max_oop)\n",
        "print(\" lovest marks of OOPJ = \",min_oop)\n",
        "print(\"\\n highest marks of PEM = \",max_pem)\n",
        "print(\" lovest marks of PEM = \",min_pem)\n",
        "print(\"\\n highest marks of COA = \",max_coa)\n",
        "print(\" lovest marks of COA = \",min_coa)"
      ],
      "execution_count": null,
      "outputs": [
        {
          "output_type": "stream",
          "text": [
            " highest marks of OS =  90\n",
            " lovest marks of OS =  15\n",
            "\n",
            " highest marks of DMATHS =  89\n",
            " lovest marks of DMATHS =  15\n",
            "\n",
            " highest marks of OOPJ =  87\n",
            " lovest marks of OOPJ =  15\n",
            "\n",
            " highest marks of PEM =  92\n",
            " lovest marks of PEM =  15\n",
            "\n",
            " highest marks of COA =  90\n",
            " lovest marks of COA =  15\n"
          ],
          "name": "stdout"
        }
      ]
    },
    {
      "cell_type": "markdown",
      "metadata": {
        "id": "inI95rsbgKRd"
      },
      "source": [
        "### 4) Count total no of male and female in dataset."
      ]
    },
    {
      "cell_type": "code",
      "metadata": {
        "id": "clDccI8CgKRe"
      },
      "source": [
        "#Count total no of male and female\n",
        "count_male=df['Gender'].where(df['Gender']=='m').count()\n",
        "count_female=df['Gender'].where(df['Gender']=='f').count()"
      ],
      "execution_count": null,
      "outputs": []
    },
    {
      "cell_type": "code",
      "metadata": {
        "id": "RdNIPMT9gKRg",
        "outputId": "65ebebe1-ebc5-45d8-cfe6-aa6966dd8ec7"
      },
      "source": [
        "print(\"Total no of male = \",count_male)\n",
        "print(\"Total no of female = \",count_female)"
      ],
      "execution_count": null,
      "outputs": [
        {
          "output_type": "stream",
          "text": [
            "Total no of male =  502\n",
            "Total no of female =  499\n"
          ],
          "name": "stdout"
        }
      ]
    }
  ]
}