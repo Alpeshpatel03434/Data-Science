{
  "nbformat": 4,
  "nbformat_minor": 0,
  "metadata": {
    "kernelspec": {
      "display_name": "Python 3",
      "language": "python",
      "name": "python3"
    },
    "language_info": {
      "codemirror_mode": {
        "name": "ipython",
        "version": 3
      },
      "file_extension": ".py",
      "mimetype": "text/x-python",
      "name": "python",
      "nbconvert_exporter": "python",
      "pygments_lexer": "ipython3",
      "version": "3.8.6"
    },
    "colab": {
      "name": "Decision Tree.ipynb",
      "provenance": [],
      "include_colab_link": true
    }
  },
  "cells": [
    {
      "cell_type": "markdown",
      "metadata": {
        "id": "view-in-github",
        "colab_type": "text"
      },
      "source": [
        "<a href=\"https://colab.research.google.com/github/Alpeshpatel03434/Data-Science/blob/main/Decision_Tree.ipynb\" target=\"_parent\"><img src=\"https://colab.research.google.com/assets/colab-badge.svg\" alt=\"Open In Colab\"/></a>"
      ]
    },
    {
      "cell_type": "markdown",
      "metadata": {
        "id": "VAkMXnlZJQrX"
      },
      "source": [
        "##   AIM : Decision Tree Algorithm"
      ]
    },
    {
      "cell_type": "markdown",
      "metadata": {
        "id": "JrbzzRg2JQrY"
      },
      "source": [
        "### Dataset :  Gender Classification"
      ]
    },
    {
      "cell_type": "markdown",
      "metadata": {
        "id": "yonfrju3JQrZ"
      },
      "source": [
        "### Link :  https://www.kaggle.com/hb20007/gender-classification/download"
      ]
    },
    {
      "cell_type": "markdown",
      "metadata": {
        "id": "sJcbFEAjJQra"
      },
      "source": [
        "### import library"
      ]
    },
    {
      "cell_type": "code",
      "metadata": {
        "id": "r7D61mBNJQra"
      },
      "source": [
        "import pandas as pd\n",
        "import numpy as np\n",
        "import matplotlib.pyplot as plt\n",
        "%matplotlib inline\n",
        "import seaborn as sns"
      ],
      "execution_count": null,
      "outputs": []
    },
    {
      "cell_type": "code",
      "metadata": {
        "id": "NluWVwF_JQre",
        "outputId": "a642fd56-2fbd-469d-eea0-a175a5ce7d34"
      },
      "source": [
        "# read csv file\n",
        "gen_df = pd.read_csv(\"Gender.csv\")\n",
        "gen_df.head()"
      ],
      "execution_count": null,
      "outputs": [
        {
          "output_type": "execute_result",
          "data": {
            "text/html": [
              "<div>\n",
              "<style scoped>\n",
              "    .dataframe tbody tr th:only-of-type {\n",
              "        vertical-align: middle;\n",
              "    }\n",
              "\n",
              "    .dataframe tbody tr th {\n",
              "        vertical-align: top;\n",
              "    }\n",
              "\n",
              "    .dataframe thead th {\n",
              "        text-align: right;\n",
              "    }\n",
              "</style>\n",
              "<table border=\"1\" class=\"dataframe\">\n",
              "  <thead>\n",
              "    <tr style=\"text-align: right;\">\n",
              "      <th></th>\n",
              "      <th>Favorite Color</th>\n",
              "      <th>Favorite Music Genre</th>\n",
              "      <th>Favorite Beverage</th>\n",
              "      <th>Favorite Soft Drink</th>\n",
              "      <th>Gender</th>\n",
              "    </tr>\n",
              "  </thead>\n",
              "  <tbody>\n",
              "    <tr>\n",
              "      <th>0</th>\n",
              "      <td>Cool</td>\n",
              "      <td>Rock</td>\n",
              "      <td>Vodka</td>\n",
              "      <td>7UP/Sprite</td>\n",
              "      <td>F</td>\n",
              "    </tr>\n",
              "    <tr>\n",
              "      <th>1</th>\n",
              "      <td>Neutral</td>\n",
              "      <td>Hip hop</td>\n",
              "      <td>Vodka</td>\n",
              "      <td>Coca Cola/Pepsi</td>\n",
              "      <td>F</td>\n",
              "    </tr>\n",
              "    <tr>\n",
              "      <th>2</th>\n",
              "      <td>Warm</td>\n",
              "      <td>Rock</td>\n",
              "      <td>Wine</td>\n",
              "      <td>Coca Cola/Pepsi</td>\n",
              "      <td>F</td>\n",
              "    </tr>\n",
              "    <tr>\n",
              "      <th>3</th>\n",
              "      <td>Warm</td>\n",
              "      <td>Folk/Traditional</td>\n",
              "      <td>Whiskey</td>\n",
              "      <td>Fanta</td>\n",
              "      <td>F</td>\n",
              "    </tr>\n",
              "    <tr>\n",
              "      <th>4</th>\n",
              "      <td>Cool</td>\n",
              "      <td>Rock</td>\n",
              "      <td>Vodka</td>\n",
              "      <td>Coca Cola/Pepsi</td>\n",
              "      <td>F</td>\n",
              "    </tr>\n",
              "  </tbody>\n",
              "</table>\n",
              "</div>"
            ],
            "text/plain": [
              "  Favorite Color Favorite Music Genre Favorite Beverage Favorite Soft Drink  \\\n",
              "0           Cool                 Rock             Vodka          7UP/Sprite   \n",
              "1        Neutral              Hip hop             Vodka     Coca Cola/Pepsi   \n",
              "2           Warm                 Rock              Wine     Coca Cola/Pepsi   \n",
              "3           Warm     Folk/Traditional           Whiskey               Fanta   \n",
              "4           Cool                 Rock             Vodka     Coca Cola/Pepsi   \n",
              "\n",
              "  Gender  \n",
              "0      F  \n",
              "1      F  \n",
              "2      F  \n",
              "3      F  \n",
              "4      F  "
            ]
          },
          "metadata": {
            "tags": []
          },
          "execution_count": 2
        }
      ]
    },
    {
      "cell_type": "code",
      "metadata": {
        "id": "ZX75KBGlJQri",
        "outputId": "54d9be67-61f4-490f-c598-b518f62c38f8"
      },
      "source": [
        "gen_df.shape"
      ],
      "execution_count": null,
      "outputs": [
        {
          "output_type": "execute_result",
          "data": {
            "text/plain": [
              "(66, 5)"
            ]
          },
          "metadata": {
            "tags": []
          },
          "execution_count": 3
        }
      ]
    },
    {
      "cell_type": "code",
      "metadata": {
        "id": "YqVRw-5_JQrl",
        "outputId": "b886b1ce-7103-4249-a501-b0adf0e9dc9d"
      },
      "source": [
        "gen_df.info()"
      ],
      "execution_count": null,
      "outputs": [
        {
          "output_type": "stream",
          "text": [
            "<class 'pandas.core.frame.DataFrame'>\n",
            "RangeIndex: 66 entries, 0 to 65\n",
            "Data columns (total 5 columns):\n",
            " #   Column                Non-Null Count  Dtype \n",
            "---  ------                --------------  ----- \n",
            " 0   Favorite Color        66 non-null     object\n",
            " 1   Favorite Music Genre  66 non-null     object\n",
            " 2   Favorite Beverage     66 non-null     object\n",
            " 3   Favorite Soft Drink   66 non-null     object\n",
            " 4   Gender                66 non-null     object\n",
            "dtypes: object(5)\n",
            "memory usage: 2.7+ KB\n"
          ],
          "name": "stdout"
        }
      ]
    },
    {
      "cell_type": "code",
      "metadata": {
        "id": "4ePO6oEJJQro",
        "outputId": "70776378-ed20-41f5-fe46-37cec69a66df"
      },
      "source": [
        "gen_df.describe()"
      ],
      "execution_count": null,
      "outputs": [
        {
          "output_type": "execute_result",
          "data": {
            "text/html": [
              "<div>\n",
              "<style scoped>\n",
              "    .dataframe tbody tr th:only-of-type {\n",
              "        vertical-align: middle;\n",
              "    }\n",
              "\n",
              "    .dataframe tbody tr th {\n",
              "        vertical-align: top;\n",
              "    }\n",
              "\n",
              "    .dataframe thead th {\n",
              "        text-align: right;\n",
              "    }\n",
              "</style>\n",
              "<table border=\"1\" class=\"dataframe\">\n",
              "  <thead>\n",
              "    <tr style=\"text-align: right;\">\n",
              "      <th></th>\n",
              "      <th>Favorite Color</th>\n",
              "      <th>Favorite Music Genre</th>\n",
              "      <th>Favorite Beverage</th>\n",
              "      <th>Favorite Soft Drink</th>\n",
              "      <th>Gender</th>\n",
              "    </tr>\n",
              "  </thead>\n",
              "  <tbody>\n",
              "    <tr>\n",
              "      <th>count</th>\n",
              "      <td>66</td>\n",
              "      <td>66</td>\n",
              "      <td>66</td>\n",
              "      <td>66</td>\n",
              "      <td>66</td>\n",
              "    </tr>\n",
              "    <tr>\n",
              "      <th>unique</th>\n",
              "      <td>3</td>\n",
              "      <td>7</td>\n",
              "      <td>6</td>\n",
              "      <td>4</td>\n",
              "      <td>2</td>\n",
              "    </tr>\n",
              "    <tr>\n",
              "      <th>top</th>\n",
              "      <td>Cool</td>\n",
              "      <td>Rock</td>\n",
              "      <td>Doesn't drink</td>\n",
              "      <td>Coca Cola/Pepsi</td>\n",
              "      <td>F</td>\n",
              "    </tr>\n",
              "    <tr>\n",
              "      <th>freq</th>\n",
              "      <td>37</td>\n",
              "      <td>19</td>\n",
              "      <td>14</td>\n",
              "      <td>32</td>\n",
              "      <td>33</td>\n",
              "    </tr>\n",
              "  </tbody>\n",
              "</table>\n",
              "</div>"
            ],
            "text/plain": [
              "       Favorite Color Favorite Music Genre Favorite Beverage  \\\n",
              "count              66                   66                66   \n",
              "unique              3                    7                 6   \n",
              "top              Cool                 Rock     Doesn't drink   \n",
              "freq               37                   19                14   \n",
              "\n",
              "       Favorite Soft Drink Gender  \n",
              "count                   66     66  \n",
              "unique                   4      2  \n",
              "top        Coca Cola/Pepsi      F  \n",
              "freq                    32     33  "
            ]
          },
          "metadata": {
            "tags": []
          },
          "execution_count": 5
        }
      ]
    },
    {
      "cell_type": "markdown",
      "metadata": {
        "id": "-eVbbTiwJQrr"
      },
      "source": [
        "### Misiing value care"
      ]
    },
    {
      "cell_type": "code",
      "metadata": {
        "id": "0p6NtCUOJQrr",
        "outputId": "fb0c309d-177f-43db-ad7d-c31d22a00dd6"
      },
      "source": [
        "# cheack missing value\n",
        "gen_df.isna().sum()"
      ],
      "execution_count": null,
      "outputs": [
        {
          "output_type": "execute_result",
          "data": {
            "text/plain": [
              "Favorite Color          0\n",
              "Favorite Music Genre    0\n",
              "Favorite Beverage       0\n",
              "Favorite Soft Drink     0\n",
              "Gender                  0\n",
              "dtype: int64"
            ]
          },
          "metadata": {
            "tags": []
          },
          "execution_count": 6
        }
      ]
    },
    {
      "cell_type": "markdown",
      "metadata": {
        "id": "rornh69TJQrv"
      },
      "source": [
        "### Encoding catagorical variable"
      ]
    },
    {
      "cell_type": "code",
      "metadata": {
        "scrolled": true,
        "id": "a3NWVMWjJQrv",
        "outputId": "cf3713c2-77ce-4645-ffc6-edda4f95811f"
      },
      "source": [
        "gen_df.dtypes"
      ],
      "execution_count": null,
      "outputs": [
        {
          "output_type": "execute_result",
          "data": {
            "text/plain": [
              "Favorite Color          object\n",
              "Favorite Music Genre    object\n",
              "Favorite Beverage       object\n",
              "Favorite Soft Drink     object\n",
              "Gender                  object\n",
              "dtype: object"
            ]
          },
          "metadata": {
            "tags": []
          },
          "execution_count": 7
        }
      ]
    },
    {
      "cell_type": "code",
      "metadata": {
        "id": "GfQ87K8hJQr0"
      },
      "source": [
        "from sklearn import preprocessing\n",
        "\n",
        "gen_df['Favorite Color'] = preprocessing.LabelEncoder().fit_transform(gen_df['Favorite Color'])\n",
        "gen_df['Favorite Music Genre'] = preprocessing.LabelEncoder().fit_transform(gen_df['Favorite Music Genre'])\n",
        "gen_df['Favorite Beverage'] = preprocessing.LabelEncoder().fit_transform(gen_df['Favorite Beverage'])\n",
        "gen_df['Favorite Soft Drink'] = preprocessing.LabelEncoder().fit_transform(gen_df['Favorite Soft Drink'])\n",
        "gen_df['Gender'] = preprocessing.LabelEncoder().fit_transform(gen_df['Gender'])"
      ],
      "execution_count": null,
      "outputs": []
    },
    {
      "cell_type": "code",
      "metadata": {
        "id": "6IUJApTkJQr2",
        "outputId": "d760f151-994d-4ae7-df2b-e0dd7dcf84cf"
      },
      "source": [
        "gen_df.head()"
      ],
      "execution_count": null,
      "outputs": [
        {
          "output_type": "execute_result",
          "data": {
            "text/html": [
              "<div>\n",
              "<style scoped>\n",
              "    .dataframe tbody tr th:only-of-type {\n",
              "        vertical-align: middle;\n",
              "    }\n",
              "\n",
              "    .dataframe tbody tr th {\n",
              "        vertical-align: top;\n",
              "    }\n",
              "\n",
              "    .dataframe thead th {\n",
              "        text-align: right;\n",
              "    }\n",
              "</style>\n",
              "<table border=\"1\" class=\"dataframe\">\n",
              "  <thead>\n",
              "    <tr style=\"text-align: right;\">\n",
              "      <th></th>\n",
              "      <th>Favorite Color</th>\n",
              "      <th>Favorite Music Genre</th>\n",
              "      <th>Favorite Beverage</th>\n",
              "      <th>Favorite Soft Drink</th>\n",
              "      <th>Gender</th>\n",
              "    </tr>\n",
              "  </thead>\n",
              "  <tbody>\n",
              "    <tr>\n",
              "      <th>0</th>\n",
              "      <td>0</td>\n",
              "      <td>6</td>\n",
              "      <td>3</td>\n",
              "      <td>0</td>\n",
              "      <td>0</td>\n",
              "    </tr>\n",
              "    <tr>\n",
              "      <th>1</th>\n",
              "      <td>1</td>\n",
              "      <td>2</td>\n",
              "      <td>3</td>\n",
              "      <td>1</td>\n",
              "      <td>0</td>\n",
              "    </tr>\n",
              "    <tr>\n",
              "      <th>2</th>\n",
              "      <td>2</td>\n",
              "      <td>6</td>\n",
              "      <td>5</td>\n",
              "      <td>1</td>\n",
              "      <td>0</td>\n",
              "    </tr>\n",
              "    <tr>\n",
              "      <th>3</th>\n",
              "      <td>2</td>\n",
              "      <td>1</td>\n",
              "      <td>4</td>\n",
              "      <td>2</td>\n",
              "      <td>0</td>\n",
              "    </tr>\n",
              "    <tr>\n",
              "      <th>4</th>\n",
              "      <td>0</td>\n",
              "      <td>6</td>\n",
              "      <td>3</td>\n",
              "      <td>1</td>\n",
              "      <td>0</td>\n",
              "    </tr>\n",
              "  </tbody>\n",
              "</table>\n",
              "</div>"
            ],
            "text/plain": [
              "   Favorite Color  Favorite Music Genre  Favorite Beverage  \\\n",
              "0               0                     6                  3   \n",
              "1               1                     2                  3   \n",
              "2               2                     6                  5   \n",
              "3               2                     1                  4   \n",
              "4               0                     6                  3   \n",
              "\n",
              "   Favorite Soft Drink  Gender  \n",
              "0                    0       0  \n",
              "1                    1       0  \n",
              "2                    1       0  \n",
              "3                    2       0  \n",
              "4                    1       0  "
            ]
          },
          "metadata": {
            "tags": []
          },
          "execution_count": 9
        }
      ]
    },
    {
      "cell_type": "markdown",
      "metadata": {
        "id": "xGeyBUCGJQr5"
      },
      "source": [
        "### Split dependent and independent data"
      ]
    },
    {
      "cell_type": "code",
      "metadata": {
        "id": "ePxGelqcJQr6"
      },
      "source": [
        "X = gen_df.iloc[:, :-1].values\n",
        "y = gen_df.iloc[:, -1].values"
      ],
      "execution_count": null,
      "outputs": []
    },
    {
      "cell_type": "code",
      "metadata": {
        "id": "dEPON9ENJQr8",
        "outputId": "4d1e983d-4bd4-47a6-d5db-af9bcd32116f"
      },
      "source": [
        "print(X)"
      ],
      "execution_count": null,
      "outputs": [
        {
          "output_type": "stream",
          "text": [
            "[[0 6 3 0]\n",
            " [1 2 3 1]\n",
            " [2 6 5 1]\n",
            " [2 1 4 2]\n",
            " [0 6 3 1]\n",
            " [2 3 1 2]\n",
            " [0 4 0 1]\n",
            " [2 4 4 2]\n",
            " [2 6 2 0]\n",
            " [1 4 5 1]\n",
            " [0 4 2 0]\n",
            " [2 4 2 0]\n",
            " [2 4 5 0]\n",
            " [2 0 5 1]\n",
            " [0 6 0 1]\n",
            " [2 3 5 1]\n",
            " [0 4 5 0]\n",
            " [0 6 2 1]\n",
            " [0 6 2 1]\n",
            " [0 4 1 0]\n",
            " [0 4 0 2]\n",
            " [2 3 4 2]\n",
            " [0 6 3 1]\n",
            " [2 4 2 1]\n",
            " [0 1 4 0]\n",
            " [2 5 4 1]\n",
            " [0 4 0 3]\n",
            " [0 4 1 3]\n",
            " [0 4 1 1]\n",
            " [0 0 1 2]\n",
            " [2 6 2 1]\n",
            " [1 6 0 1]\n",
            " [0 5 0 1]\n",
            " [2 5 5 3]\n",
            " [1 2 0 0]\n",
            " [2 0 2 1]\n",
            " [1 6 1 1]\n",
            " [0 4 2 2]\n",
            " [0 4 4 2]\n",
            " [2 6 3 0]\n",
            " [0 6 3 1]\n",
            " [1 4 1 0]\n",
            " [2 5 1 1]\n",
            " [0 6 5 0]\n",
            " [0 1 0 3]\n",
            " [0 2 0 1]\n",
            " [0 2 5 1]\n",
            " [0 5 4 0]\n",
            " [0 6 1 3]\n",
            " [2 2 0 1]\n",
            " [0 5 1 1]\n",
            " [0 6 1 1]\n",
            " [0 2 1 3]\n",
            " [2 6 0 2]\n",
            " [0 0 1 2]\n",
            " [0 0 2 2]\n",
            " [2 1 2 2]\n",
            " [2 0 3 2]\n",
            " [2 3 3 1]\n",
            " [0 4 4 3]\n",
            " [0 0 4 1]\n",
            " [0 6 3 1]\n",
            " [0 2 0 1]\n",
            " [1 2 1 2]\n",
            " [0 6 5 1]\n",
            " [0 0 0 1]]\n"
          ],
          "name": "stdout"
        }
      ]
    },
    {
      "cell_type": "code",
      "metadata": {
        "id": "EGAXk6aaJQr_",
        "outputId": "6c1564c5-179c-4856-e809-11f49224c03c"
      },
      "source": [
        "print(y)"
      ],
      "execution_count": null,
      "outputs": [
        {
          "output_type": "stream",
          "text": [
            "[0 0 0 0 0 0 0 0 0 0 0 0 0 0 0 0 0 0 0 0 0 0 0 0 0 0 0 0 0 0 0 0 0 1 1 1 1\n",
            " 1 1 1 1 1 1 1 1 1 1 1 1 1 1 1 1 1 1 1 1 1 1 1 1 1 1 1 1 1]\n"
          ],
          "name": "stdout"
        }
      ]
    },
    {
      "cell_type": "markdown",
      "metadata": {
        "id": "k9TbE-XtJQsD"
      },
      "source": [
        "## Splitting the dataset into the Training set and Test set"
      ]
    },
    {
      "cell_type": "code",
      "metadata": {
        "id": "wK_IUWtLJQsE"
      },
      "source": [
        "from sklearn.model_selection import train_test_split\n",
        "\n",
        "X_train, X_test, y_train, y_test = train_test_split(X, y, test_size = 0.25, random_state = 0)"
      ],
      "execution_count": null,
      "outputs": []
    },
    {
      "cell_type": "code",
      "metadata": {
        "id": "jmAwSD2KJQsH",
        "outputId": "536321a1-4aed-4664-e8fe-e8798618a759"
      },
      "source": [
        "print(X_train)"
      ],
      "execution_count": null,
      "outputs": [
        {
          "output_type": "stream",
          "text": [
            "[[2 6 2 1]\n",
            " [0 4 2 0]\n",
            " [0 6 3 1]\n",
            " [1 4 1 0]\n",
            " [0 6 5 1]\n",
            " [0 5 0 1]\n",
            " [2 4 4 2]\n",
            " [0 6 0 1]\n",
            " [0 4 0 3]\n",
            " [0 4 1 3]\n",
            " [2 1 2 2]\n",
            " [2 5 1 1]\n",
            " [0 6 5 0]\n",
            " [0 0 4 1]\n",
            " [0 6 2 1]\n",
            " [0 2 0 1]\n",
            " [2 3 5 1]\n",
            " [2 3 1 2]\n",
            " [0 4 5 0]\n",
            " [0 4 0 2]\n",
            " [2 0 3 2]\n",
            " [2 6 2 0]\n",
            " [2 0 5 1]\n",
            " [2 5 4 1]\n",
            " [0 4 2 2]\n",
            " [0 6 2 1]\n",
            " [2 2 0 1]\n",
            " [0 2 1 3]\n",
            " [2 3 3 1]\n",
            " [0 4 4 2]\n",
            " [1 2 3 1]\n",
            " [2 4 5 0]\n",
            " [0 0 1 2]\n",
            " [0 1 4 0]\n",
            " [0 4 0 1]\n",
            " [2 4 2 1]\n",
            " [1 6 1 1]\n",
            " [0 5 1 1]\n",
            " [2 3 4 2]\n",
            " [0 4 1 0]\n",
            " [1 4 5 1]\n",
            " [2 6 3 0]\n",
            " [0 6 3 1]\n",
            " [0 4 4 3]\n",
            " [2 1 4 2]\n",
            " [0 6 3 0]\n",
            " [2 6 0 2]\n",
            " [0 5 4 0]\n",
            " [0 1 0 3]]\n"
          ],
          "name": "stdout"
        }
      ]
    },
    {
      "cell_type": "code",
      "metadata": {
        "id": "nvnVs42jJQsK",
        "outputId": "a25cd203-8df3-45ab-97a5-5431cfdc90c5"
      },
      "source": [
        "print(y_train)"
      ],
      "execution_count": null,
      "outputs": [
        {
          "output_type": "stream",
          "text": [
            "[0 0 0 1 1 0 0 0 0 0 1 1 1 1 0 1 0 0 0 0 1 0 0 0 1 0 1 1 1 1 0 0 1 0 0 0 1\n",
            " 1 0 0 0 1 1 1 0 0 1 1 1]\n"
          ],
          "name": "stdout"
        }
      ]
    },
    {
      "cell_type": "code",
      "metadata": {
        "id": "yXjnJo7jJQsM",
        "outputId": "1e64be0b-42a0-498d-8731-3ecab69123e8"
      },
      "source": [
        "print(X_test)"
      ],
      "execution_count": null,
      "outputs": [
        {
          "output_type": "stream",
          "text": [
            "[[0 2 0 1]\n",
            " [0 4 1 1]\n",
            " [0 0 1 2]\n",
            " [0 0 2 2]\n",
            " [1 2 1 2]\n",
            " [1 6 0 1]\n",
            " [0 6 1 1]\n",
            " [0 2 5 1]\n",
            " [1 2 0 0]\n",
            " [0 6 3 1]\n",
            " [2 0 2 1]\n",
            " [0 6 3 1]\n",
            " [2 5 5 3]\n",
            " [0 6 1 3]\n",
            " [0 0 0 1]\n",
            " [2 6 5 1]\n",
            " [2 4 2 0]]\n"
          ],
          "name": "stdout"
        }
      ]
    },
    {
      "cell_type": "code",
      "metadata": {
        "id": "FtRgHjocJQsO",
        "outputId": "23a26d58-6c8a-4593-c7fe-127be54e98b3"
      },
      "source": [
        "print(y_test)"
      ],
      "execution_count": null,
      "outputs": [
        {
          "output_type": "stream",
          "text": [
            "[1 0 0 1 1 0 1 1 1 0 1 1 1 1 1 0 0]\n"
          ],
          "name": "stdout"
        }
      ]
    },
    {
      "cell_type": "markdown",
      "metadata": {
        "id": "raEQufykJQsS"
      },
      "source": [
        "## Decision Tree Classification Model using train sat"
      ]
    },
    {
      "cell_type": "code",
      "metadata": {
        "id": "PdeQxwB8JQsT"
      },
      "source": [
        ""
      ],
      "execution_count": null,
      "outputs": []
    },
    {
      "cell_type": "code",
      "metadata": {
        "id": "n9hbC4XXJQsY",
        "outputId": "b385db1a-5d64-4fe0-d32e-1d349f38d112"
      },
      "source": [
        "from sklearn.tree import DecisionTreeClassifier\n",
        "\n",
        "classifier = DecisionTreeClassifier(criterion = 'entropy', random_state = 0)\n",
        "classifier.fit(X_train, y_train)"
      ],
      "execution_count": null,
      "outputs": [
        {
          "output_type": "execute_result",
          "data": {
            "text/plain": [
              "DecisionTreeClassifier(ccp_alpha=0.0, class_weight=None, criterion='entropy',\n",
              "                       max_depth=None, max_features=None, max_leaf_nodes=None,\n",
              "                       min_impurity_decrease=0.0, min_impurity_split=None,\n",
              "                       min_samples_leaf=1, min_samples_split=2,\n",
              "                       min_weight_fraction_leaf=0.0, presort='deprecated',\n",
              "                       random_state=0, splitter='best')"
            ]
          },
          "metadata": {
            "tags": []
          },
          "execution_count": 18
        }
      ]
    },
    {
      "cell_type": "code",
      "metadata": {
        "id": "Ybtj7bIfJQsa"
      },
      "source": [
        ""
      ],
      "execution_count": null,
      "outputs": []
    },
    {
      "cell_type": "markdown",
      "metadata": {
        "id": "wbEsjTRSJQsc"
      },
      "source": [
        "## Predict test set using our Decision Tree Classification model"
      ]
    },
    {
      "cell_type": "code",
      "metadata": {
        "id": "gKiJUotWJQsc"
      },
      "source": [
        "y_pred = classifier.predict(X_test)"
      ],
      "execution_count": null,
      "outputs": []
    },
    {
      "cell_type": "code",
      "metadata": {
        "id": "xh47RGBPJQse",
        "outputId": "6cf0eab8-7cc2-40bd-8490-13a8ea4f2b77"
      },
      "source": [
        "# test sat using pridicted\n",
        "print(y_pred)"
      ],
      "execution_count": null,
      "outputs": [
        {
          "output_type": "stream",
          "text": [
            "[1 0 1 1 1 0 1 0 1 0 1 0 1 1 1 1 0]\n"
          ],
          "name": "stdout"
        }
      ]
    },
    {
      "cell_type": "markdown",
      "metadata": {
        "id": "R2v-fd2TJQsj"
      },
      "source": [
        "##   Decision Trees"
      ]
    },
    {
      "cell_type": "code",
      "metadata": {
        "id": "sCl9S9e8JQsj"
      },
      "source": [
        "from sklearn import tree\n",
        "\n",
        "classifier_tree = tree.DecisionTreeClassifier()\n",
        "classifier_tree = classifier_tree.fit(X_train, y_train)"
      ],
      "execution_count": null,
      "outputs": []
    },
    {
      "cell_type": "code",
      "metadata": {
        "id": "4-Kw_1sEJQsm",
        "outputId": "f3ef7778-ff41-4682-d8ee-244c3bc5b026"
      },
      "source": [
        "# text graph representaion\n",
        "text_representation = tree.export_text(classifier_tree)\n",
        "print(text_representation)"
      ],
      "execution_count": null,
      "outputs": [
        {
          "output_type": "stream",
          "text": [
            "|--- feature_1 <= 2.50\n",
            "|   |--- feature_2 <= 2.50\n",
            "|   |   |--- class: 1\n",
            "|   |--- feature_2 >  2.50\n",
            "|   |   |--- feature_1 <= 0.50\n",
            "|   |   |   |--- feature_2 <= 4.50\n",
            "|   |   |   |   |--- class: 1\n",
            "|   |   |   |--- feature_2 >  4.50\n",
            "|   |   |   |   |--- class: 0\n",
            "|   |   |--- feature_1 >  0.50\n",
            "|   |   |   |--- class: 0\n",
            "|--- feature_1 >  2.50\n",
            "|   |--- feature_1 <= 4.50\n",
            "|   |   |--- feature_2 <= 4.50\n",
            "|   |   |   |--- feature_2 <= 2.50\n",
            "|   |   |   |   |--- feature_2 <= 0.50\n",
            "|   |   |   |   |   |--- class: 0\n",
            "|   |   |   |   |--- feature_2 >  0.50\n",
            "|   |   |   |   |   |--- feature_0 <= 1.50\n",
            "|   |   |   |   |   |   |--- feature_0 <= 0.50\n",
            "|   |   |   |   |   |   |   |--- feature_2 <= 1.50\n",
            "|   |   |   |   |   |   |   |   |--- class: 0\n",
            "|   |   |   |   |   |   |   |--- feature_2 >  1.50\n",
            "|   |   |   |   |   |   |   |   |--- feature_3 <= 1.00\n",
            "|   |   |   |   |   |   |   |   |   |--- class: 0\n",
            "|   |   |   |   |   |   |   |   |--- feature_3 >  1.00\n",
            "|   |   |   |   |   |   |   |   |   |--- class: 1\n",
            "|   |   |   |   |   |   |--- feature_0 >  0.50\n",
            "|   |   |   |   |   |   |   |--- class: 1\n",
            "|   |   |   |   |   |--- feature_0 >  1.50\n",
            "|   |   |   |   |   |   |--- class: 0\n",
            "|   |   |   |--- feature_2 >  2.50\n",
            "|   |   |   |   |--- feature_0 <= 1.00\n",
            "|   |   |   |   |   |--- class: 1\n",
            "|   |   |   |   |--- feature_0 >  1.00\n",
            "|   |   |   |   |   |--- feature_3 <= 1.50\n",
            "|   |   |   |   |   |   |--- class: 1\n",
            "|   |   |   |   |   |--- feature_3 >  1.50\n",
            "|   |   |   |   |   |   |--- class: 0\n",
            "|   |   |--- feature_2 >  4.50\n",
            "|   |   |   |--- class: 0\n",
            "|   |--- feature_1 >  4.50\n",
            "|   |   |--- feature_2 <= 4.50\n",
            "|   |   |   |--- feature_2 <= 1.50\n",
            "|   |   |   |   |--- feature_2 <= 0.50\n",
            "|   |   |   |   |   |--- feature_3 <= 1.50\n",
            "|   |   |   |   |   |   |--- class: 0\n",
            "|   |   |   |   |   |--- feature_3 >  1.50\n",
            "|   |   |   |   |   |   |--- class: 1\n",
            "|   |   |   |   |--- feature_2 >  0.50\n",
            "|   |   |   |   |   |--- class: 1\n",
            "|   |   |   |--- feature_2 >  1.50\n",
            "|   |   |   |   |--- feature_2 <= 2.50\n",
            "|   |   |   |   |   |--- class: 0\n",
            "|   |   |   |   |--- feature_2 >  2.50\n",
            "|   |   |   |   |   |--- feature_3 <= 0.50\n",
            "|   |   |   |   |   |   |--- feature_2 <= 3.50\n",
            "|   |   |   |   |   |   |   |--- feature_0 <= 1.00\n",
            "|   |   |   |   |   |   |   |   |--- class: 0\n",
            "|   |   |   |   |   |   |   |--- feature_0 >  1.00\n",
            "|   |   |   |   |   |   |   |   |--- class: 1\n",
            "|   |   |   |   |   |   |--- feature_2 >  3.50\n",
            "|   |   |   |   |   |   |   |--- class: 1\n",
            "|   |   |   |   |   |--- feature_3 >  0.50\n",
            "|   |   |   |   |   |   |--- feature_0 <= 1.00\n",
            "|   |   |   |   |   |   |   |--- class: 0\n",
            "|   |   |   |   |   |   |--- feature_0 >  1.00\n",
            "|   |   |   |   |   |   |   |--- class: 0\n",
            "|   |   |--- feature_2 >  4.50\n",
            "|   |   |   |--- class: 1\n",
            "\n"
          ],
          "name": "stdout"
        }
      ]
    },
    {
      "cell_type": "code",
      "metadata": {
        "id": "BYCrjNZTJQsp",
        "outputId": "1d4bc4cd-5299-4a69-eafe-5e098d34ec3f"
      },
      "source": [
        "# Decision Trees plot\n",
        "plt.figure(figsize=(18, 16))\n",
        "tree.plot_tree(classifier_tree) "
      ],
      "execution_count": null,
      "outputs": [
        {
          "output_type": "execute_result",
          "data": {
            "text/plain": [
              "[Text(313.875, 826.2719999999999, 'X[1] <= 2.5\\ngini = 0.495\\nsamples = 49\\nvalue = [27, 22]'),\n",
              " Text(83.7, 739.296, 'X[2] <= 2.5\\ngini = 0.444\\nsamples = 12\\nvalue = [4, 8]'),\n",
              " Text(41.85, 652.3199999999999, 'gini = 0.0\\nsamples = 6\\nvalue = [0, 6]'),\n",
              " Text(125.55000000000001, 652.3199999999999, 'X[1] <= 0.5\\ngini = 0.444\\nsamples = 6\\nvalue = [4, 2]'),\n",
              " Text(83.7, 565.344, 'X[2] <= 4.5\\ngini = 0.444\\nsamples = 3\\nvalue = [1, 2]'),\n",
              " Text(41.85, 478.368, 'gini = 0.0\\nsamples = 2\\nvalue = [0, 2]'),\n",
              " Text(125.55000000000001, 478.368, 'gini = 0.0\\nsamples = 1\\nvalue = [1, 0]'),\n",
              " Text(167.4, 565.344, 'gini = 0.0\\nsamples = 3\\nvalue = [3, 0]'),\n",
              " Text(544.0500000000001, 739.296, 'X[1] <= 4.5\\ngini = 0.47\\nsamples = 37\\nvalue = [23, 14]'),\n",
              " Text(334.8, 652.3199999999999, 'X[2] <= 4.5\\ngini = 0.388\\nsamples = 19\\nvalue = [14, 5]'),\n",
              " Text(292.95, 565.344, 'X[2] <= 2.5\\ngini = 0.444\\nsamples = 15\\nvalue = [10, 5]'),\n",
              " Text(209.25, 478.368, 'X[2] <= 0.5\\ngini = 0.32\\nsamples = 10\\nvalue = [8, 2]'),\n",
              " Text(167.4, 391.392, 'gini = 0.0\\nsamples = 3\\nvalue = [3, 0]'),\n",
              " Text(251.10000000000002, 391.392, 'X[0] <= 1.5\\ngini = 0.408\\nsamples = 7\\nvalue = [5, 2]'),\n",
              " Text(209.25, 304.41599999999994, 'X[0] <= 0.5\\ngini = 0.48\\nsamples = 5\\nvalue = [3, 2]'),\n",
              " Text(167.4, 217.44000000000005, 'X[2] <= 1.5\\ngini = 0.375\\nsamples = 4\\nvalue = [3, 1]'),\n",
              " Text(125.55000000000001, 130.46399999999994, 'gini = 0.0\\nsamples = 2\\nvalue = [2, 0]'),\n",
              " Text(209.25, 130.46399999999994, 'X[3] <= 1.0\\ngini = 0.5\\nsamples = 2\\nvalue = [1, 1]'),\n",
              " Text(167.4, 43.488000000000056, 'gini = 0.0\\nsamples = 1\\nvalue = [1, 0]'),\n",
              " Text(251.10000000000002, 43.488000000000056, 'gini = 0.0\\nsamples = 1\\nvalue = [0, 1]'),\n",
              " Text(251.10000000000002, 217.44000000000005, 'gini = 0.0\\nsamples = 1\\nvalue = [0, 1]'),\n",
              " Text(292.95, 304.41599999999994, 'gini = 0.0\\nsamples = 2\\nvalue = [2, 0]'),\n",
              " Text(376.65000000000003, 478.368, 'X[0] <= 1.0\\ngini = 0.48\\nsamples = 5\\nvalue = [2, 3]'),\n",
              " Text(334.8, 391.392, 'gini = 0.0\\nsamples = 2\\nvalue = [0, 2]'),\n",
              " Text(418.5, 391.392, 'X[3] <= 1.5\\ngini = 0.444\\nsamples = 3\\nvalue = [2, 1]'),\n",
              " Text(376.65000000000003, 304.41599999999994, 'gini = 0.0\\nsamples = 1\\nvalue = [0, 1]'),\n",
              " Text(460.35, 304.41599999999994, 'gini = 0.0\\nsamples = 2\\nvalue = [2, 0]'),\n",
              " Text(376.65000000000003, 565.344, 'gini = 0.0\\nsamples = 4\\nvalue = [4, 0]'),\n",
              " Text(753.3000000000001, 652.3199999999999, 'X[2] <= 4.5\\ngini = 0.5\\nsamples = 18\\nvalue = [9, 9]'),\n",
              " Text(711.45, 565.344, 'X[2] <= 1.5\\ngini = 0.492\\nsamples = 16\\nvalue = [9, 7]'),\n",
              " Text(627.75, 478.368, 'X[2] <= 0.5\\ngini = 0.444\\nsamples = 6\\nvalue = [2, 4]'),\n",
              " Text(585.9, 391.392, 'X[3] <= 1.5\\ngini = 0.444\\nsamples = 3\\nvalue = [2, 1]'),\n",
              " Text(544.0500000000001, 304.41599999999994, 'gini = 0.0\\nsamples = 2\\nvalue = [2, 0]'),\n",
              " Text(627.75, 304.41599999999994, 'gini = 0.0\\nsamples = 1\\nvalue = [0, 1]'),\n",
              " Text(669.6, 391.392, 'gini = 0.0\\nsamples = 3\\nvalue = [0, 3]'),\n",
              " Text(795.15, 478.368, 'X[2] <= 2.5\\ngini = 0.42\\nsamples = 10\\nvalue = [7, 3]'),\n",
              " Text(753.3000000000001, 391.392, 'gini = 0.0\\nsamples = 4\\nvalue = [4, 0]'),\n",
              " Text(837.0, 391.392, 'X[3] <= 0.5\\ngini = 0.5\\nsamples = 6\\nvalue = [3, 3]'),\n",
              " Text(753.3000000000001, 304.41599999999994, 'X[2] <= 3.5\\ngini = 0.444\\nsamples = 3\\nvalue = [1, 2]'),\n",
              " Text(711.45, 217.44000000000005, 'X[0] <= 1.0\\ngini = 0.5\\nsamples = 2\\nvalue = [1, 1]'),\n",
              " Text(669.6, 130.46399999999994, 'gini = 0.0\\nsamples = 1\\nvalue = [1, 0]'),\n",
              " Text(753.3000000000001, 130.46399999999994, 'gini = 0.0\\nsamples = 1\\nvalue = [0, 1]'),\n",
              " Text(795.15, 217.44000000000005, 'gini = 0.0\\nsamples = 1\\nvalue = [0, 1]'),\n",
              " Text(920.7, 304.41599999999994, 'X[0] <= 1.0\\ngini = 0.444\\nsamples = 3\\nvalue = [2, 1]'),\n",
              " Text(878.85, 217.44000000000005, 'gini = 0.5\\nsamples = 2\\nvalue = [1, 1]'),\n",
              " Text(962.5500000000001, 217.44000000000005, 'gini = 0.0\\nsamples = 1\\nvalue = [1, 0]'),\n",
              " Text(795.15, 565.344, 'gini = 0.0\\nsamples = 2\\nvalue = [0, 2]')]"
            ]
          },
          "metadata": {
            "tags": []
          },
          "execution_count": 23
        },
        {
          "output_type": "display_data",
          "data": {
            "image/png": "[encoded data removed]",
            "text/plain": [
              "<Figure size 1296x1152 with 1 Axes>"
            ]
          },
          "metadata": {
            "tags": [],
            "needs_background": "light"
          }
        }
      ]
    },
    {
      "cell_type": "markdown",
      "metadata": {
        "id": "1YD2tICSJQss"
      },
      "source": [
        "##  Model Measurements "
      ]
    },
    {
      "cell_type": "markdown",
      "metadata": {
        "id": "26-_Sq-0JQss"
      },
      "source": [
        "### Confusion Matrix"
      ]
    },
    {
      "cell_type": "code",
      "metadata": {
        "id": "7_RUNlWMJQst",
        "outputId": "daf35323-6665-4c9e-fb5c-37e16560bc9e"
      },
      "source": [
        "from sklearn.metrics import confusion_matrix\n",
        "\n",
        "CM = confusion_matrix(y_test, y_pred)\n",
        "print(CM)"
      ],
      "execution_count": null,
      "outputs": [
        {
          "output_type": "stream",
          "text": [
            "[[4 2]\n",
            " [2 9]]\n"
          ],
          "name": "stdout"
        }
      ]
    },
    {
      "cell_type": "code",
      "metadata": {
        "id": "7_qGrVBzJQsu",
        "outputId": "1fae6d34-f671-4e94-f5fa-b8bad828dec2"
      },
      "source": [
        "# plot confusion matrix\n",
        "\n",
        "score = classifier.score(X, y)\n",
        "\n",
        "plt.figure(figsize=(8, 6))\n",
        "sns.heatmap(CM, annot=True, fmt=\".0f\", linewidths=0.5, square = True, cmap = 'Blues');\n",
        "plt.ylabel('Actual label', fontsize = 12);\n",
        "plt.xlabel('Predicted label', fontsize = 12);\n",
        "plt.title('Accuracy Score: {}'.format(score), size = 12);\n",
        "plt.tick_params(labelsize= 12)"
      ],
      "execution_count": null,
      "outputs": [
        {
          "output_type": "display_data",
          "data": {
            "image/png": "[encoded data removed]",
            "text/plain": [
              "<Figure size 576x432 with 2 Axes>"
            ]
          },
          "metadata": {
            "tags": [],
            "needs_background": "light"
          }
        }
      ]
    },
    {
      "cell_type": "markdown",
      "metadata": {
        "id": "5m5Uw70mJQsx"
      },
      "source": [
        "###  Confusion Matrix TP,TN,FP,FN"
      ]
    },
    {
      "cell_type": "code",
      "metadata": {
        "id": "XlXA75G3JQsy"
      },
      "source": [
        "# True - negative, positive, False - Positive, negative\n",
        "TN, FP, FN, TP = CM.ravel()"
      ],
      "execution_count": null,
      "outputs": []
    },
    {
      "cell_type": "code",
      "metadata": {
        "id": "iinUYG-uJQs0",
        "outputId": "c1b764ef-4d4d-4cbc-d8f6-64b175fcd61b"
      },
      "source": [
        "print(\"True Positives(TP) = \", TP)"
      ],
      "execution_count": null,
      "outputs": [
        {
          "output_type": "stream",
          "text": [
            "True Positives(TP) =  9\n"
          ],
          "name": "stdout"
        }
      ]
    },
    {
      "cell_type": "code",
      "metadata": {
        "id": "XEEJ_N__JQs2",
        "outputId": "b06d7d3d-f6b7-4b63-a0fb-91d9b65aff91"
      },
      "source": [
        "print(\"True Negatives(TN) = \", TN)"
      ],
      "execution_count": null,
      "outputs": [
        {
          "output_type": "stream",
          "text": [
            "True Negatives(TN) =  4\n"
          ],
          "name": "stdout"
        }
      ]
    },
    {
      "cell_type": "code",
      "metadata": {
        "id": "UA2CuAmgJQs4",
        "outputId": "664238d6-c012-41c1-8c1d-4fde3ad205bf"
      },
      "source": [
        "print(\"False Positives(FP) = \", FP)"
      ],
      "execution_count": null,
      "outputs": [
        {
          "output_type": "stream",
          "text": [
            "False Positives(FP) =  2\n"
          ],
          "name": "stdout"
        }
      ]
    },
    {
      "cell_type": "code",
      "metadata": {
        "id": "gCaPONsWJQs6",
        "outputId": "b3f637e0-5d0f-4cf2-d02e-3a2217aa098f"
      },
      "source": [
        "print(\"False Negative(FN) = \", FN)"
      ],
      "execution_count": null,
      "outputs": [
        {
          "output_type": "stream",
          "text": [
            "False Negative(FN) =  2\n"
          ],
          "name": "stdout"
        }
      ]
    },
    {
      "cell_type": "markdown",
      "metadata": {
        "id": "2_vRIM5tJQs_"
      },
      "source": [
        "### Precision - Recall"
      ]
    },
    {
      "cell_type": "code",
      "metadata": {
        "id": "0knzonoHJQs_",
        "outputId": "d2a9891a-100c-40b7-e9bb-0ed2ef822edf"
      },
      "source": [
        "Precision = TP/ (TP + FP)\n",
        "\n",
        "print(\"Precision = \", Precision)"
      ],
      "execution_count": null,
      "outputs": [
        {
          "output_type": "stream",
          "text": [
            "Precision =  0.8181818181818182\n"
          ],
          "name": "stdout"
        }
      ]
    },
    {
      "cell_type": "code",
      "metadata": {
        "id": "KMMeIOHuJQtB",
        "outputId": "8361a9f0-b53e-48c0-e110-1c985ad8a13d"
      },
      "source": [
        "Recall = TP/ (TP + FN)\n",
        "\n",
        "print(\"Recall = \", Recall)"
      ],
      "execution_count": null,
      "outputs": [
        {
          "output_type": "stream",
          "text": [
            "Recall =  0.8181818181818182\n"
          ],
          "name": "stdout"
        }
      ]
    },
    {
      "cell_type": "code",
      "metadata": {
        "id": "_qITTSToJQtE",
        "outputId": "410c6910-8d05-4d1c-f06f-860a962db472"
      },
      "source": [
        "from sklearn.metrics import precision_recall_curve\n",
        "from sklearn.metrics import plot_precision_recall_curve\n",
        "\n",
        "disp = plot_precision_recall_curve(classifier, X_test, y_test)\n",
        "disp.ax_.set_title('2-class Precision-Recall curve: ' 'AP={0:0.2f}'.format(Precision))"
      ],
      "execution_count": null,
      "outputs": [
        {
          "output_type": "execute_result",
          "data": {
            "text/plain": [
              "Text(0.5, 1.0, '2-class Precision-Recall curve: AP=0.82')"
            ]
          },
          "metadata": {
            "tags": []
          },
          "execution_count": 33
        },
        {
          "output_type": "display_data",
          "data": {
            "image/png": "[encoded data removed]",
            "text/plain": [
              "<Figure size 432x288 with 1 Axes>"
            ]
          },
          "metadata": {
            "tags": [],
            "needs_background": "light"
          }
        }
      ]
    },
    {
      "cell_type": "markdown",
      "metadata": {
        "id": "X9ufNgvhJQtH"
      },
      "source": [
        "### F1 - Score"
      ]
    },
    {
      "cell_type": "code",
      "metadata": {
        "id": "Oz__PGx8JQtH",
        "outputId": "0697972e-4329-48c9-e67d-ff9702005abb"
      },
      "source": [
        "F1_Score = TP/ (TP + 0.5*(FP + FN)) \n",
        "\n",
        "print(\"F1 - Score = \", F1_Score)"
      ],
      "execution_count": null,
      "outputs": [
        {
          "output_type": "stream",
          "text": [
            "F1 - Score =  0.8181818181818182\n"
          ],
          "name": "stdout"
        }
      ]
    },
    {
      "cell_type": "markdown",
      "metadata": {
        "id": "jYPcnen8JQtK"
      },
      "source": [
        "### The Optimal max_depth"
      ]
    },
    {
      "cell_type": "markdown",
      "metadata": {
        "id": "-J_bCagyJQtK"
      },
      "source": [
        "### Accuracy Score"
      ]
    },
    {
      "cell_type": "code",
      "metadata": {
        "id": "9Zbbiqw6JQtL",
        "outputId": "6bb5d06a-42d2-47d3-f37f-70e8ed053eaf"
      },
      "source": [
        "Accuracy = (TP + TN)/(TP + TN + FP + FN)\n",
        "\n",
        "print(\"Accuracy = \", Accuracy)"
      ],
      "execution_count": null,
      "outputs": [
        {
          "output_type": "stream",
          "text": [
            "Accuracy =  0.7647058823529411\n"
          ],
          "name": "stdout"
        }
      ]
    },
    {
      "cell_type": "code",
      "metadata": {
        "id": "pjnJvkLAJQtN",
        "outputId": "17b525a1-e507-4378-e519-22c15238ade0"
      },
      "source": [
        "from sklearn.metrics import accuracy_score\n",
        "\n",
        "accuracy_score(y_test, y_pred)"
      ],
      "execution_count": null,
      "outputs": [
        {
          "output_type": "execute_result",
          "data": {
            "text/plain": [
              "0.7647058823529411"
            ]
          },
          "metadata": {
            "tags": []
          },
          "execution_count": 36
        }
      ]
    },
    {
      "cell_type": "code",
      "metadata": {
        "id": "jhxunRb9JQtQ"
      },
      "source": [
        ""
      ],
      "execution_count": null,
      "outputs": []
    },
    {
      "cell_type": "code",
      "metadata": {
        "id": "SurnljNcJQtS",
        "outputId": "1e7d23b6-e6df-4546-cae5-8d68bc87c1a1"
      },
      "source": [
        "#  Logistic Regression our model Score\n",
        "\n",
        "classifier.score(X, y)"
      ],
      "execution_count": null,
      "outputs": [
        {
          "output_type": "execute_result",
          "data": {
            "text/plain": [
              "0.9242424242424242"
            ]
          },
          "metadata": {
            "tags": []
          },
          "execution_count": 37
        }
      ]
    },
    {
      "cell_type": "markdown",
      "metadata": {
        "id": "3c41DDN0JQtU"
      },
      "source": [
        "### Classification_report"
      ]
    },
    {
      "cell_type": "code",
      "metadata": {
        "id": "pKnWqnhHJQtU",
        "outputId": "7ce8b1ee-25b4-4d40-d8d1-be27d45f63a4"
      },
      "source": [
        "from sklearn import metrics\n",
        "\n",
        "print (metrics.classification_report(y_test, y_pred))"
      ],
      "execution_count": null,
      "outputs": [
        {
          "output_type": "stream",
          "text": [
            "              precision    recall  f1-score   support\n",
            "\n",
            "           0       0.67      0.67      0.67         6\n",
            "           1       0.82      0.82      0.82        11\n",
            "\n",
            "    accuracy                           0.76        17\n",
            "   macro avg       0.74      0.74      0.74        17\n",
            "weighted avg       0.76      0.76      0.76        17\n",
            "\n"
          ],
          "name": "stdout"
        }
      ]
    },
    {
      "cell_type": "markdown",
      "metadata": {
        "id": "RLTvC0zKJQtX"
      },
      "source": [
        "### Conclusion and Observations"
      ]
    },
    {
      "cell_type": "markdown",
      "metadata": {
        "id": "J6fzQUvfJQtY"
      },
      "source": [
        "#### Decision Trees is the process of the how to predict our classification model.     After Gender datasat Importing, Fit our dataset in our model, and test our model using predicted and Gender classify Male or Female with Accuracy is 0.74 percent."
      ]
    }
  ]
}