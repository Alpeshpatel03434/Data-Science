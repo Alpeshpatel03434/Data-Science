{
 "cells": [
  {
   "cell_type": "markdown",
   "metadata": {
    "id": "Yq4d-adH9kwf"
   },
   "source": [
    "# Project"
   ]
  },
  {
   "cell_type": "markdown",
   "metadata": {
    "id": "8C9Ta1fg9kwl"
   },
   "source": [
    "### Dataset : Wine Quality\n",
    "**Dataset Link** : https://www.kaggle.com/rajyellow46/wine-quality/download"
   ]
  },
  {
   "cell_type": "markdown",
   "metadata": {},
   "source": [
    "**Predict Wine types using dataset of Wine Quality**"
   ]
  },
  {
   "cell_type": "markdown",
   "metadata": {
    "id": "S0N6rsfC9kwm"
   },
   "source": [
    "Dtaset information avalible at above link"
   ]
  },
  {
   "cell_type": "markdown",
   "metadata": {
    "id": "0CnvRVpz9kwm"
   },
   "source": [
    "## import library"
   ]
  },
  {
   "cell_type": "code",
   "execution_count": 1,
   "metadata": {
    "id": "XDA7JwOU9kwn"
   },
   "outputs": [],
   "source": [
    "import pandas as pd\n",
    "import numpy as np\n",
    "import matplotlib.pyplot as plt\n",
    "%matplotlib inline\n",
    "import seaborn as sns"
   ]
  },
  {
   "cell_type": "markdown",
   "metadata": {
    "id": "G_slOwmX9kwn"
   },
   "source": [
    "## Downlad data from link\n",
    "Data can be found at https://www.kaggle.com/rajyellow46/wine-quality/download"
   ]
  },
  {
   "cell_type": "markdown",
   "metadata": {
    "id": "PaOybLA39kwo"
   },
   "source": [
    "## Importing the dataset"
   ]
  },
  {
   "cell_type": "code",
   "execution_count": 2,
   "metadata": {
    "colab": {
     "base_uri": "https://localhost:8080/"
    },
    "id": "GA8Hlnmi9kwo",
    "outputId": "edd31b17-1821-4f57-b12d-6fd83cde8455"
   },
   "outputs": [
    {
     "name": "stdout",
     "output_type": "stream",
     "text": [
      "Data imported successfully\n"
     ]
    }
   ],
   "source": [
    "dataset = pd.read_csv('winequalityN.csv')\n",
    "print(\"Data imported successfully\")"
   ]
  },
  {
   "cell_type": "code",
   "execution_count": 3,
   "metadata": {
    "colab": {
     "base_uri": "https://localhost:8080/",
     "height": 238
    },
    "id": "e0VXI53T9kwp",
    "outputId": "ef122711-b984-4a6b-be1c-90744488b8a0"
   },
   "outputs": [
    {
     "data": {
      "text/html": [
       "<div>\n",
       "<style scoped>\n",
       "    .dataframe tbody tr th:only-of-type {\n",
       "        vertical-align: middle;\n",
       "    }\n",
       "\n",
       "    .dataframe tbody tr th {\n",
       "        vertical-align: top;\n",
       "    }\n",
       "\n",
       "    .dataframe thead th {\n",
       "        text-align: right;\n",
       "    }\n",
       "</style>\n",
       "<table border=\"1\" class=\"dataframe\">\n",
       "  <thead>\n",
       "    <tr style=\"text-align: right;\">\n",
       "      <th></th>\n",
       "      <th>type</th>\n",
       "      <th>fixed acidity</th>\n",
       "      <th>volatile acidity</th>\n",
       "      <th>citric acid</th>\n",
       "      <th>residual sugar</th>\n",
       "      <th>chlorides</th>\n",
       "      <th>free sulfur dioxide</th>\n",
       "      <th>total sulfur dioxide</th>\n",
       "      <th>density</th>\n",
       "      <th>pH</th>\n",
       "      <th>sulphates</th>\n",
       "      <th>alcohol</th>\n",
       "      <th>quality</th>\n",
       "    </tr>\n",
       "  </thead>\n",
       "  <tbody>\n",
       "    <tr>\n",
       "      <th>0</th>\n",
       "      <td>white</td>\n",
       "      <td>7.0</td>\n",
       "      <td>0.27</td>\n",
       "      <td>0.36</td>\n",
       "      <td>20.7</td>\n",
       "      <td>0.045</td>\n",
       "      <td>45.0</td>\n",
       "      <td>170.0</td>\n",
       "      <td>1.0010</td>\n",
       "      <td>3.00</td>\n",
       "      <td>0.45</td>\n",
       "      <td>8.8</td>\n",
       "      <td>6</td>\n",
       "    </tr>\n",
       "    <tr>\n",
       "      <th>1</th>\n",
       "      <td>white</td>\n",
       "      <td>6.3</td>\n",
       "      <td>0.30</td>\n",
       "      <td>0.34</td>\n",
       "      <td>1.6</td>\n",
       "      <td>0.049</td>\n",
       "      <td>14.0</td>\n",
       "      <td>132.0</td>\n",
       "      <td>0.9940</td>\n",
       "      <td>3.30</td>\n",
       "      <td>0.49</td>\n",
       "      <td>9.5</td>\n",
       "      <td>6</td>\n",
       "    </tr>\n",
       "    <tr>\n",
       "      <th>2</th>\n",
       "      <td>white</td>\n",
       "      <td>8.1</td>\n",
       "      <td>0.28</td>\n",
       "      <td>0.40</td>\n",
       "      <td>6.9</td>\n",
       "      <td>0.050</td>\n",
       "      <td>30.0</td>\n",
       "      <td>97.0</td>\n",
       "      <td>0.9951</td>\n",
       "      <td>3.26</td>\n",
       "      <td>0.44</td>\n",
       "      <td>10.1</td>\n",
       "      <td>6</td>\n",
       "    </tr>\n",
       "    <tr>\n",
       "      <th>3</th>\n",
       "      <td>white</td>\n",
       "      <td>7.2</td>\n",
       "      <td>0.23</td>\n",
       "      <td>0.32</td>\n",
       "      <td>8.5</td>\n",
       "      <td>0.058</td>\n",
       "      <td>47.0</td>\n",
       "      <td>186.0</td>\n",
       "      <td>0.9956</td>\n",
       "      <td>3.19</td>\n",
       "      <td>0.40</td>\n",
       "      <td>9.9</td>\n",
       "      <td>6</td>\n",
       "    </tr>\n",
       "    <tr>\n",
       "      <th>4</th>\n",
       "      <td>white</td>\n",
       "      <td>7.2</td>\n",
       "      <td>0.23</td>\n",
       "      <td>0.32</td>\n",
       "      <td>8.5</td>\n",
       "      <td>0.058</td>\n",
       "      <td>47.0</td>\n",
       "      <td>186.0</td>\n",
       "      <td>0.9956</td>\n",
       "      <td>3.19</td>\n",
       "      <td>0.40</td>\n",
       "      <td>9.9</td>\n",
       "      <td>6</td>\n",
       "    </tr>\n",
       "  </tbody>\n",
       "</table>\n",
       "</div>"
      ],
      "text/plain": [
       "    type  fixed acidity  volatile acidity  citric acid  residual sugar  \\\n",
       "0  white            7.0              0.27         0.36            20.7   \n",
       "1  white            6.3              0.30         0.34             1.6   \n",
       "2  white            8.1              0.28         0.40             6.9   \n",
       "3  white            7.2              0.23         0.32             8.5   \n",
       "4  white            7.2              0.23         0.32             8.5   \n",
       "\n",
       "   chlorides  free sulfur dioxide  total sulfur dioxide  density    pH  \\\n",
       "0      0.045                 45.0                 170.0   1.0010  3.00   \n",
       "1      0.049                 14.0                 132.0   0.9940  3.30   \n",
       "2      0.050                 30.0                  97.0   0.9951  3.26   \n",
       "3      0.058                 47.0                 186.0   0.9956  3.19   \n",
       "4      0.058                 47.0                 186.0   0.9956  3.19   \n",
       "\n",
       "   sulphates  alcohol  quality  \n",
       "0       0.45      8.8        6  \n",
       "1       0.49      9.5        6  \n",
       "2       0.44     10.1        6  \n",
       "3       0.40      9.9        6  \n",
       "4       0.40      9.9        6  "
      ]
     },
     "execution_count": 3,
     "metadata": {},
     "output_type": "execute_result"
    }
   ],
   "source": [
    "dataset.head()"
   ]
  },
  {
   "cell_type": "code",
   "execution_count": 4,
   "metadata": {
    "colab": {
     "base_uri": "https://localhost:8080/"
    },
    "id": "9vKKO2Q49kwq",
    "outputId": "fb6f6e02-6716-4de4-c80b-03a4f2c1f179"
   },
   "outputs": [
    {
     "data": {
      "text/plain": [
       "(6497, 13)"
      ]
     },
     "execution_count": 4,
     "metadata": {},
     "output_type": "execute_result"
    }
   ],
   "source": [
    "# Shape of dataset\n",
    "dataset.shape"
   ]
  },
  {
   "cell_type": "code",
   "execution_count": 5,
   "metadata": {
    "colab": {
     "base_uri": "https://localhost:8080/"
    },
    "id": "NamuFYJs9kwq",
    "outputId": "86bf950b-cd1c-48d5-9def-1682daef3c69"
   },
   "outputs": [
    {
     "name": "stdout",
     "output_type": "stream",
     "text": [
      "<class 'pandas.core.frame.DataFrame'>\n",
      "RangeIndex: 6497 entries, 0 to 6496\n",
      "Data columns (total 13 columns):\n",
      " #   Column                Non-Null Count  Dtype  \n",
      "---  ------                --------------  -----  \n",
      " 0   type                  6497 non-null   object \n",
      " 1   fixed acidity         6487 non-null   float64\n",
      " 2   volatile acidity      6489 non-null   float64\n",
      " 3   citric acid           6494 non-null   float64\n",
      " 4   residual sugar        6495 non-null   float64\n",
      " 5   chlorides             6495 non-null   float64\n",
      " 6   free sulfur dioxide   6497 non-null   float64\n",
      " 7   total sulfur dioxide  6497 non-null   float64\n",
      " 8   density               6497 non-null   float64\n",
      " 9   pH                    6488 non-null   float64\n",
      " 10  sulphates             6493 non-null   float64\n",
      " 11  alcohol               6497 non-null   float64\n",
      " 12  quality               6497 non-null   int64  \n",
      "dtypes: float64(11), int64(1), object(1)\n",
      "memory usage: 660.0+ KB\n"
     ]
    }
   ],
   "source": [
    "dataset.info()"
   ]
  },
  {
   "cell_type": "code",
   "execution_count": 6,
   "metadata": {
    "colab": {
     "base_uri": "https://localhost:8080/"
    },
    "id": "7M6Xe1rU9kwq",
    "outputId": "6563291a-d213-442e-ea06-84309b339c8b"
   },
   "outputs": [
    {
     "data": {
      "text/plain": [
       "Index(['type', 'fixed acidity', 'volatile acidity', 'citric acid',\n",
       "       'residual sugar', 'chlorides', 'free sulfur dioxide',\n",
       "       'total sulfur dioxide', 'density', 'pH', 'sulphates', 'alcohol',\n",
       "       'quality'],\n",
       "      dtype='object')"
      ]
     },
     "execution_count": 6,
     "metadata": {},
     "output_type": "execute_result"
    }
   ],
   "source": [
    "dataset.columns"
   ]
  },
  {
   "cell_type": "code",
   "execution_count": 7,
   "metadata": {
    "colab": {
     "base_uri": "https://localhost:8080/"
    },
    "id": "xpIdbxx49kwr",
    "outputId": "7eeb4794-1b69-48bc-db24-67484b7ab2d5"
   },
   "outputs": [
    {
     "data": {
      "text/plain": [
       "type                     object\n",
       "fixed acidity           float64\n",
       "volatile acidity        float64\n",
       "citric acid             float64\n",
       "residual sugar          float64\n",
       "chlorides               float64\n",
       "free sulfur dioxide     float64\n",
       "total sulfur dioxide    float64\n",
       "density                 float64\n",
       "pH                      float64\n",
       "sulphates               float64\n",
       "alcohol                 float64\n",
       "quality                   int64\n",
       "dtype: object"
      ]
     },
     "execution_count": 7,
     "metadata": {},
     "output_type": "execute_result"
    }
   ],
   "source": [
    "dataset.dtypes"
   ]
  },
  {
   "cell_type": "code",
   "execution_count": 8,
   "metadata": {
    "colab": {
     "base_uri": "https://localhost:8080/",
     "height": 351
    },
    "id": "HdxUXty89kwr",
    "outputId": "0bedb12f-d3df-4007-85e4-9ca4a2f7ad78"
   },
   "outputs": [
    {
     "data": {
      "text/html": [
       "<div>\n",
       "<style scoped>\n",
       "    .dataframe tbody tr th:only-of-type {\n",
       "        vertical-align: middle;\n",
       "    }\n",
       "\n",
       "    .dataframe tbody tr th {\n",
       "        vertical-align: top;\n",
       "    }\n",
       "\n",
       "    .dataframe thead th {\n",
       "        text-align: right;\n",
       "    }\n",
       "</style>\n",
       "<table border=\"1\" class=\"dataframe\">\n",
       "  <thead>\n",
       "    <tr style=\"text-align: right;\">\n",
       "      <th></th>\n",
       "      <th>fixed acidity</th>\n",
       "      <th>volatile acidity</th>\n",
       "      <th>citric acid</th>\n",
       "      <th>residual sugar</th>\n",
       "      <th>chlorides</th>\n",
       "      <th>free sulfur dioxide</th>\n",
       "      <th>total sulfur dioxide</th>\n",
       "      <th>density</th>\n",
       "      <th>pH</th>\n",
       "      <th>sulphates</th>\n",
       "      <th>alcohol</th>\n",
       "      <th>quality</th>\n",
       "    </tr>\n",
       "  </thead>\n",
       "  <tbody>\n",
       "    <tr>\n",
       "      <th>count</th>\n",
       "      <td>6487.000000</td>\n",
       "      <td>6489.000000</td>\n",
       "      <td>6494.000000</td>\n",
       "      <td>6495.000000</td>\n",
       "      <td>6495.000000</td>\n",
       "      <td>6497.000000</td>\n",
       "      <td>6497.000000</td>\n",
       "      <td>6497.000000</td>\n",
       "      <td>6488.000000</td>\n",
       "      <td>6493.000000</td>\n",
       "      <td>6497.000000</td>\n",
       "      <td>6497.000000</td>\n",
       "    </tr>\n",
       "    <tr>\n",
       "      <th>mean</th>\n",
       "      <td>7.216579</td>\n",
       "      <td>0.339691</td>\n",
       "      <td>0.318722</td>\n",
       "      <td>5.444326</td>\n",
       "      <td>0.056042</td>\n",
       "      <td>30.525319</td>\n",
       "      <td>115.744574</td>\n",
       "      <td>0.994697</td>\n",
       "      <td>3.218395</td>\n",
       "      <td>0.531215</td>\n",
       "      <td>10.491801</td>\n",
       "      <td>5.818378</td>\n",
       "    </tr>\n",
       "    <tr>\n",
       "      <th>std</th>\n",
       "      <td>1.296750</td>\n",
       "      <td>0.164649</td>\n",
       "      <td>0.145265</td>\n",
       "      <td>4.758125</td>\n",
       "      <td>0.035036</td>\n",
       "      <td>17.749400</td>\n",
       "      <td>56.521855</td>\n",
       "      <td>0.002999</td>\n",
       "      <td>0.160748</td>\n",
       "      <td>0.148814</td>\n",
       "      <td>1.192712</td>\n",
       "      <td>0.873255</td>\n",
       "    </tr>\n",
       "    <tr>\n",
       "      <th>min</th>\n",
       "      <td>3.800000</td>\n",
       "      <td>0.080000</td>\n",
       "      <td>0.000000</td>\n",
       "      <td>0.600000</td>\n",
       "      <td>0.009000</td>\n",
       "      <td>1.000000</td>\n",
       "      <td>6.000000</td>\n",
       "      <td>0.987110</td>\n",
       "      <td>2.720000</td>\n",
       "      <td>0.220000</td>\n",
       "      <td>8.000000</td>\n",
       "      <td>3.000000</td>\n",
       "    </tr>\n",
       "    <tr>\n",
       "      <th>25%</th>\n",
       "      <td>6.400000</td>\n",
       "      <td>0.230000</td>\n",
       "      <td>0.250000</td>\n",
       "      <td>1.800000</td>\n",
       "      <td>0.038000</td>\n",
       "      <td>17.000000</td>\n",
       "      <td>77.000000</td>\n",
       "      <td>0.992340</td>\n",
       "      <td>3.110000</td>\n",
       "      <td>0.430000</td>\n",
       "      <td>9.500000</td>\n",
       "      <td>5.000000</td>\n",
       "    </tr>\n",
       "    <tr>\n",
       "      <th>50%</th>\n",
       "      <td>7.000000</td>\n",
       "      <td>0.290000</td>\n",
       "      <td>0.310000</td>\n",
       "      <td>3.000000</td>\n",
       "      <td>0.047000</td>\n",
       "      <td>29.000000</td>\n",
       "      <td>118.000000</td>\n",
       "      <td>0.994890</td>\n",
       "      <td>3.210000</td>\n",
       "      <td>0.510000</td>\n",
       "      <td>10.300000</td>\n",
       "      <td>6.000000</td>\n",
       "    </tr>\n",
       "    <tr>\n",
       "      <th>75%</th>\n",
       "      <td>7.700000</td>\n",
       "      <td>0.400000</td>\n",
       "      <td>0.390000</td>\n",
       "      <td>8.100000</td>\n",
       "      <td>0.065000</td>\n",
       "      <td>41.000000</td>\n",
       "      <td>156.000000</td>\n",
       "      <td>0.996990</td>\n",
       "      <td>3.320000</td>\n",
       "      <td>0.600000</td>\n",
       "      <td>11.300000</td>\n",
       "      <td>6.000000</td>\n",
       "    </tr>\n",
       "    <tr>\n",
       "      <th>max</th>\n",
       "      <td>15.900000</td>\n",
       "      <td>1.580000</td>\n",
       "      <td>1.660000</td>\n",
       "      <td>65.800000</td>\n",
       "      <td>0.611000</td>\n",
       "      <td>289.000000</td>\n",
       "      <td>440.000000</td>\n",
       "      <td>1.038980</td>\n",
       "      <td>4.010000</td>\n",
       "      <td>2.000000</td>\n",
       "      <td>14.900000</td>\n",
       "      <td>9.000000</td>\n",
       "    </tr>\n",
       "  </tbody>\n",
       "</table>\n",
       "</div>"
      ],
      "text/plain": [
       "       fixed acidity  volatile acidity  citric acid  residual sugar  \\\n",
       "count    6487.000000       6489.000000  6494.000000     6495.000000   \n",
       "mean        7.216579          0.339691     0.318722        5.444326   \n",
       "std         1.296750          0.164649     0.145265        4.758125   \n",
       "min         3.800000          0.080000     0.000000        0.600000   \n",
       "25%         6.400000          0.230000     0.250000        1.800000   \n",
       "50%         7.000000          0.290000     0.310000        3.000000   \n",
       "75%         7.700000          0.400000     0.390000        8.100000   \n",
       "max        15.900000          1.580000     1.660000       65.800000   \n",
       "\n",
       "         chlorides  free sulfur dioxide  total sulfur dioxide      density  \\\n",
       "count  6495.000000          6497.000000           6497.000000  6497.000000   \n",
       "mean      0.056042            30.525319            115.744574     0.994697   \n",
       "std       0.035036            17.749400             56.521855     0.002999   \n",
       "min       0.009000             1.000000              6.000000     0.987110   \n",
       "25%       0.038000            17.000000             77.000000     0.992340   \n",
       "50%       0.047000            29.000000            118.000000     0.994890   \n",
       "75%       0.065000            41.000000            156.000000     0.996990   \n",
       "max       0.611000           289.000000            440.000000     1.038980   \n",
       "\n",
       "                pH    sulphates      alcohol      quality  \n",
       "count  6488.000000  6493.000000  6497.000000  6497.000000  \n",
       "mean      3.218395     0.531215    10.491801     5.818378  \n",
       "std       0.160748     0.148814     1.192712     0.873255  \n",
       "min       2.720000     0.220000     8.000000     3.000000  \n",
       "25%       3.110000     0.430000     9.500000     5.000000  \n",
       "50%       3.210000     0.510000    10.300000     6.000000  \n",
       "75%       3.320000     0.600000    11.300000     6.000000  \n",
       "max       4.010000     2.000000    14.900000     9.000000  "
      ]
     },
     "execution_count": 8,
     "metadata": {},
     "output_type": "execute_result"
    }
   ],
   "source": [
    "dataset.describe()"
   ]
  },
  {
   "cell_type": "markdown",
   "metadata": {
    "id": "HBHe0J5p9kwr"
   },
   "source": [
    "Above Fetures or variables are contionus variable"
   ]
  },
  {
   "cell_type": "code",
   "execution_count": 9,
   "metadata": {
    "colab": {
     "base_uri": "https://localhost:8080/",
     "height": 594
    },
    "id": "xAMgeCaV9kws",
    "outputId": "b5fb1d7b-f007-4eeb-a438-3ff3dcfe8c4e"
   },
   "outputs": [
    {
     "data": {
      "text/html": [
       "<div>\n",
       "<style scoped>\n",
       "    .dataframe tbody tr th:only-of-type {\n",
       "        vertical-align: middle;\n",
       "    }\n",
       "\n",
       "    .dataframe tbody tr th {\n",
       "        vertical-align: top;\n",
       "    }\n",
       "\n",
       "    .dataframe thead th {\n",
       "        text-align: right;\n",
       "    }\n",
       "</style>\n",
       "<table border=\"1\" class=\"dataframe\">\n",
       "  <thead>\n",
       "    <tr style=\"text-align: right;\">\n",
       "      <th></th>\n",
       "      <th>fixed acidity</th>\n",
       "      <th>volatile acidity</th>\n",
       "      <th>citric acid</th>\n",
       "      <th>residual sugar</th>\n",
       "      <th>chlorides</th>\n",
       "      <th>free sulfur dioxide</th>\n",
       "      <th>total sulfur dioxide</th>\n",
       "      <th>density</th>\n",
       "      <th>pH</th>\n",
       "      <th>sulphates</th>\n",
       "      <th>alcohol</th>\n",
       "      <th>quality</th>\n",
       "    </tr>\n",
       "  </thead>\n",
       "  <tbody>\n",
       "    <tr>\n",
       "      <th>fixed acidity</th>\n",
       "      <td>1.000000</td>\n",
       "      <td>0.220172</td>\n",
       "      <td>0.323736</td>\n",
       "      <td>-0.112319</td>\n",
       "      <td>0.298421</td>\n",
       "      <td>-0.283317</td>\n",
       "      <td>-0.329747</td>\n",
       "      <td>0.459204</td>\n",
       "      <td>-0.251814</td>\n",
       "      <td>0.300380</td>\n",
       "      <td>-0.095603</td>\n",
       "      <td>-0.077031</td>\n",
       "    </tr>\n",
       "    <tr>\n",
       "      <th>volatile acidity</th>\n",
       "      <td>0.220172</td>\n",
       "      <td>1.000000</td>\n",
       "      <td>-0.378061</td>\n",
       "      <td>-0.196702</td>\n",
       "      <td>0.377167</td>\n",
       "      <td>-0.353230</td>\n",
       "      <td>-0.414928</td>\n",
       "      <td>0.271193</td>\n",
       "      <td>0.260660</td>\n",
       "      <td>0.225476</td>\n",
       "      <td>-0.038248</td>\n",
       "      <td>-0.265953</td>\n",
       "    </tr>\n",
       "    <tr>\n",
       "      <th>citric acid</th>\n",
       "      <td>0.323736</td>\n",
       "      <td>-0.378061</td>\n",
       "      <td>1.000000</td>\n",
       "      <td>0.142486</td>\n",
       "      <td>0.039315</td>\n",
       "      <td>0.133437</td>\n",
       "      <td>0.195218</td>\n",
       "      <td>0.096320</td>\n",
       "      <td>-0.328689</td>\n",
       "      <td>0.057613</td>\n",
       "      <td>-0.010433</td>\n",
       "      <td>0.085706</td>\n",
       "    </tr>\n",
       "    <tr>\n",
       "      <th>residual sugar</th>\n",
       "      <td>-0.112319</td>\n",
       "      <td>-0.196702</td>\n",
       "      <td>0.142486</td>\n",
       "      <td>1.000000</td>\n",
       "      <td>-0.128902</td>\n",
       "      <td>0.403439</td>\n",
       "      <td>0.495820</td>\n",
       "      <td>0.552498</td>\n",
       "      <td>-0.267050</td>\n",
       "      <td>-0.185745</td>\n",
       "      <td>-0.359706</td>\n",
       "      <td>-0.036825</td>\n",
       "    </tr>\n",
       "    <tr>\n",
       "      <th>chlorides</th>\n",
       "      <td>0.298421</td>\n",
       "      <td>0.377167</td>\n",
       "      <td>0.039315</td>\n",
       "      <td>-0.128902</td>\n",
       "      <td>1.000000</td>\n",
       "      <td>-0.195042</td>\n",
       "      <td>-0.279580</td>\n",
       "      <td>0.362594</td>\n",
       "      <td>0.044806</td>\n",
       "      <td>0.395332</td>\n",
       "      <td>-0.256861</td>\n",
       "      <td>-0.200886</td>\n",
       "    </tr>\n",
       "    <tr>\n",
       "      <th>free sulfur dioxide</th>\n",
       "      <td>-0.283317</td>\n",
       "      <td>-0.353230</td>\n",
       "      <td>0.133437</td>\n",
       "      <td>0.403439</td>\n",
       "      <td>-0.195042</td>\n",
       "      <td>1.000000</td>\n",
       "      <td>0.720934</td>\n",
       "      <td>0.025717</td>\n",
       "      <td>-0.145191</td>\n",
       "      <td>-0.188489</td>\n",
       "      <td>-0.179838</td>\n",
       "      <td>0.055463</td>\n",
       "    </tr>\n",
       "    <tr>\n",
       "      <th>total sulfur dioxide</th>\n",
       "      <td>-0.329747</td>\n",
       "      <td>-0.414928</td>\n",
       "      <td>0.195218</td>\n",
       "      <td>0.495820</td>\n",
       "      <td>-0.279580</td>\n",
       "      <td>0.720934</td>\n",
       "      <td>1.000000</td>\n",
       "      <td>0.032395</td>\n",
       "      <td>-0.237687</td>\n",
       "      <td>-0.275381</td>\n",
       "      <td>-0.265740</td>\n",
       "      <td>-0.041385</td>\n",
       "    </tr>\n",
       "    <tr>\n",
       "      <th>density</th>\n",
       "      <td>0.459204</td>\n",
       "      <td>0.271193</td>\n",
       "      <td>0.096320</td>\n",
       "      <td>0.552498</td>\n",
       "      <td>0.362594</td>\n",
       "      <td>0.025717</td>\n",
       "      <td>0.032395</td>\n",
       "      <td>1.000000</td>\n",
       "      <td>0.011920</td>\n",
       "      <td>0.259454</td>\n",
       "      <td>-0.686745</td>\n",
       "      <td>-0.305858</td>\n",
       "    </tr>\n",
       "    <tr>\n",
       "      <th>pH</th>\n",
       "      <td>-0.251814</td>\n",
       "      <td>0.260660</td>\n",
       "      <td>-0.328689</td>\n",
       "      <td>-0.267050</td>\n",
       "      <td>0.044806</td>\n",
       "      <td>-0.145191</td>\n",
       "      <td>-0.237687</td>\n",
       "      <td>0.011920</td>\n",
       "      <td>1.000000</td>\n",
       "      <td>0.191248</td>\n",
       "      <td>0.121002</td>\n",
       "      <td>0.019366</td>\n",
       "    </tr>\n",
       "    <tr>\n",
       "      <th>sulphates</th>\n",
       "      <td>0.300380</td>\n",
       "      <td>0.225476</td>\n",
       "      <td>0.057613</td>\n",
       "      <td>-0.185745</td>\n",
       "      <td>0.395332</td>\n",
       "      <td>-0.188489</td>\n",
       "      <td>-0.275381</td>\n",
       "      <td>0.259454</td>\n",
       "      <td>0.191248</td>\n",
       "      <td>1.000000</td>\n",
       "      <td>-0.003261</td>\n",
       "      <td>0.038729</td>\n",
       "    </tr>\n",
       "    <tr>\n",
       "      <th>alcohol</th>\n",
       "      <td>-0.095603</td>\n",
       "      <td>-0.038248</td>\n",
       "      <td>-0.010433</td>\n",
       "      <td>-0.359706</td>\n",
       "      <td>-0.256861</td>\n",
       "      <td>-0.179838</td>\n",
       "      <td>-0.265740</td>\n",
       "      <td>-0.686745</td>\n",
       "      <td>0.121002</td>\n",
       "      <td>-0.003261</td>\n",
       "      <td>1.000000</td>\n",
       "      <td>0.444319</td>\n",
       "    </tr>\n",
       "    <tr>\n",
       "      <th>quality</th>\n",
       "      <td>-0.077031</td>\n",
       "      <td>-0.265953</td>\n",
       "      <td>0.085706</td>\n",
       "      <td>-0.036825</td>\n",
       "      <td>-0.200886</td>\n",
       "      <td>0.055463</td>\n",
       "      <td>-0.041385</td>\n",
       "      <td>-0.305858</td>\n",
       "      <td>0.019366</td>\n",
       "      <td>0.038729</td>\n",
       "      <td>0.444319</td>\n",
       "      <td>1.000000</td>\n",
       "    </tr>\n",
       "  </tbody>\n",
       "</table>\n",
       "</div>"
      ],
      "text/plain": [
       "                      fixed acidity  volatile acidity  citric acid  \\\n",
       "fixed acidity              1.000000          0.220172     0.323736   \n",
       "volatile acidity           0.220172          1.000000    -0.378061   \n",
       "citric acid                0.323736         -0.378061     1.000000   \n",
       "residual sugar            -0.112319         -0.196702     0.142486   \n",
       "chlorides                  0.298421          0.377167     0.039315   \n",
       "free sulfur dioxide       -0.283317         -0.353230     0.133437   \n",
       "total sulfur dioxide      -0.329747         -0.414928     0.195218   \n",
       "density                    0.459204          0.271193     0.096320   \n",
       "pH                        -0.251814          0.260660    -0.328689   \n",
       "sulphates                  0.300380          0.225476     0.057613   \n",
       "alcohol                   -0.095603         -0.038248    -0.010433   \n",
       "quality                   -0.077031         -0.265953     0.085706   \n",
       "\n",
       "                      residual sugar  chlorides  free sulfur dioxide  \\\n",
       "fixed acidity              -0.112319   0.298421            -0.283317   \n",
       "volatile acidity           -0.196702   0.377167            -0.353230   \n",
       "citric acid                 0.142486   0.039315             0.133437   \n",
       "residual sugar              1.000000  -0.128902             0.403439   \n",
       "chlorides                  -0.128902   1.000000            -0.195042   \n",
       "free sulfur dioxide         0.403439  -0.195042             1.000000   \n",
       "total sulfur dioxide        0.495820  -0.279580             0.720934   \n",
       "density                     0.552498   0.362594             0.025717   \n",
       "pH                         -0.267050   0.044806            -0.145191   \n",
       "sulphates                  -0.185745   0.395332            -0.188489   \n",
       "alcohol                    -0.359706  -0.256861            -0.179838   \n",
       "quality                    -0.036825  -0.200886             0.055463   \n",
       "\n",
       "                      total sulfur dioxide   density        pH  sulphates  \\\n",
       "fixed acidity                    -0.329747  0.459204 -0.251814   0.300380   \n",
       "volatile acidity                 -0.414928  0.271193  0.260660   0.225476   \n",
       "citric acid                       0.195218  0.096320 -0.328689   0.057613   \n",
       "residual sugar                    0.495820  0.552498 -0.267050  -0.185745   \n",
       "chlorides                        -0.279580  0.362594  0.044806   0.395332   \n",
       "free sulfur dioxide               0.720934  0.025717 -0.145191  -0.188489   \n",
       "total sulfur dioxide              1.000000  0.032395 -0.237687  -0.275381   \n",
       "density                           0.032395  1.000000  0.011920   0.259454   \n",
       "pH                               -0.237687  0.011920  1.000000   0.191248   \n",
       "sulphates                        -0.275381  0.259454  0.191248   1.000000   \n",
       "alcohol                          -0.265740 -0.686745  0.121002  -0.003261   \n",
       "quality                          -0.041385 -0.305858  0.019366   0.038729   \n",
       "\n",
       "                       alcohol   quality  \n",
       "fixed acidity        -0.095603 -0.077031  \n",
       "volatile acidity     -0.038248 -0.265953  \n",
       "citric acid          -0.010433  0.085706  \n",
       "residual sugar       -0.359706 -0.036825  \n",
       "chlorides            -0.256861 -0.200886  \n",
       "free sulfur dioxide  -0.179838  0.055463  \n",
       "total sulfur dioxide -0.265740 -0.041385  \n",
       "density              -0.686745 -0.305858  \n",
       "pH                    0.121002  0.019366  \n",
       "sulphates            -0.003261  0.038729  \n",
       "alcohol               1.000000  0.444319  \n",
       "quality               0.444319  1.000000  "
      ]
     },
     "execution_count": 9,
     "metadata": {},
     "output_type": "execute_result"
    }
   ],
   "source": [
    "dataset.corr()"
   ]
  },
  {
   "cell_type": "code",
   "execution_count": 10,
   "metadata": {
    "colab": {
     "base_uri": "https://localhost:8080/",
     "height": 696
    },
    "id": "Q3DhIm4D9kws",
    "outputId": "53f5089e-5e97-44d6-ee18-e80ab4924a57"
   },
   "outputs": [
    {
     "data": {
      "text/plain": [
       "<AxesSubplot:>"
      ]
     },
     "execution_count": 10,
     "metadata": {},
     "output_type": "execute_result"
    },
    {
     "data": {
      "image/png": "[encoded data removed]",
      "text/plain": [
       "<Figure size 864x720 with 2 Axes>"
      ]
     },
     "metadata": {
      "needs_background": "light"
     },
     "output_type": "display_data"
    }
   ],
   "source": [
    "# heatmap plot correlation of all independent variable\n",
    "\n",
    "plt.figure(figsize=(12, 10))\n",
    "sns.heatmap(dataset.corr(), annot = True, fmt = '.2f', cmap = 'coolwarm')"
   ]
  },
  {
   "cell_type": "code",
   "execution_count": 11,
   "metadata": {
    "colab": {
     "base_uri": "https://localhost:8080/",
     "height": 296
    },
    "id": "vFZ20v6U9kws",
    "outputId": "f56f8331-8994-4baa-a6e8-aee75c347ff7"
   },
   "outputs": [
    {
     "data": {
      "text/plain": [
       "<AxesSubplot:xlabel='type'>"
      ]
     },
     "execution_count": 11,
     "metadata": {},
     "output_type": "execute_result"
    },
    {
     "data": {
      "image/png": "[encoded data removed]",
      "text/plain": [
       "<Figure size 432x288 with 1 Axes>"
      ]
     },
     "metadata": {
      "needs_background": "light"
     },
     "output_type": "display_data"
    }
   ],
   "source": [
    "bar = dataset.plot.bar(x='type', y='quality', rot=0)\n",
    "bar"
   ]
  },
  {
   "cell_type": "code",
   "execution_count": 12,
   "metadata": {
    "colab": {
     "base_uri": "https://localhost:8080/",
     "height": 296
    },
    "id": "kO7MrPIN9kwt",
    "outputId": "ecec761e-7396-4f1e-e063-6cd91a23bc83"
   },
   "outputs": [
    {
     "data": {
      "text/plain": [
       "<AxesSubplot:xlabel='type'>"
      ]
     },
     "execution_count": 12,
     "metadata": {},
     "output_type": "execute_result"
    },
    {
     "data": {
      "image/png": "[encoded data removed]",
      "text/plain": [
       "<Figure size 432x288 with 1 Axes>"
      ]
     },
     "metadata": {
      "needs_background": "light"
     },
     "output_type": "display_data"
    }
   ],
   "source": [
    "dataset.plot.bar(x='type', y='alcohol', rot=0)"
   ]
  },
  {
   "cell_type": "markdown",
   "metadata": {
    "id": "88nqTH3p9kwt"
   },
   "source": [
    "> # Preparing the data"
   ]
  },
  {
   "cell_type": "markdown",
   "metadata": {
    "id": "sM9X8Xv79kwt"
   },
   "source": [
    "## Cheack Missing value"
   ]
  },
  {
   "cell_type": "code",
   "execution_count": 13,
   "metadata": {
    "colab": {
     "base_uri": "https://localhost:8080/"
    },
    "id": "eBm_Q40X9kwu",
    "outputId": "07a2dc65-1da1-44e7-e65d-e8fa5b108df1",
    "scrolled": true
   },
   "outputs": [
    {
     "data": {
      "text/plain": [
       "type                     0\n",
       "fixed acidity           10\n",
       "volatile acidity         8\n",
       "citric acid              3\n",
       "residual sugar           2\n",
       "chlorides                2\n",
       "free sulfur dioxide      0\n",
       "total sulfur dioxide     0\n",
       "density                  0\n",
       "pH                       9\n",
       "sulphates                4\n",
       "alcohol                  0\n",
       "quality                  0\n",
       "dtype: int64"
      ]
     },
     "execution_count": 13,
     "metadata": {},
     "output_type": "execute_result"
    }
   ],
   "source": [
    "# cheack missing value\n",
    "dataset.isna().sum()"
   ]
  },
  {
   "cell_type": "markdown",
   "metadata": {
    "id": "92vAy-U49kwu"
   },
   "source": [
    "The missing vaalue avalible then"
   ]
  },
  {
   "cell_type": "code",
   "execution_count": 14,
   "metadata": {
    "id": "8Q5kgDTc9kwu"
   },
   "outputs": [],
   "source": [
    "# Missing value fill with its mode\n",
    "\n",
    "dataset['fixed acidity'] = dataset['fixed acidity'].fillna(dataset['fixed acidity'].mode()[0])\n",
    "dataset['volatile acidity'] = dataset['volatile acidity'].fillna(dataset['volatile acidity'].mode()[0])\n",
    "dataset['citric acid'] = dataset['citric acid'].fillna(dataset['citric acid'].mode()[0])\n",
    "dataset['residual sugar'] = dataset['residual sugar'].fillna(dataset['residual sugar'].mode()[0])\n",
    "dataset['chlorides'] = dataset['chlorides'].fillna(dataset['chlorides'].mode()[0])\n",
    "dataset['pH'] = dataset['pH'].fillna(dataset['pH'].mode()[0])\n",
    "dataset['sulphates'] = dataset['sulphates'].fillna(dataset['sulphates'].mode()[0])"
   ]
  },
  {
   "cell_type": "code",
   "execution_count": 15,
   "metadata": {
    "id": "Juy1OcfQ9kwu"
   },
   "outputs": [],
   "source": [
    "dataset = dataset[['fixed acidity', 'volatile acidity', 'citric acid',\n",
    "       'residual sugar', 'chlorides', 'free sulfur dioxide',\n",
    "       'total sulfur dioxide', 'density', 'pH', 'sulphates', 'alcohol',\n",
    "       'quality', 'type']]"
   ]
  },
  {
   "cell_type": "markdown",
   "metadata": {
    "id": "OxfOM4T-9kwv"
   },
   "source": [
    "## Encoding catagorical variable"
   ]
  },
  {
   "cell_type": "code",
   "execution_count": 16,
   "metadata": {
    "colab": {
     "base_uri": "https://localhost:8080/"
    },
    "id": "VRIFen6U9kwv",
    "outputId": "8ffea63b-3801-40c5-c774-f7aa12850622"
   },
   "outputs": [
    {
     "data": {
      "text/plain": [
       "fixed acidity           False\n",
       "volatile acidity        False\n",
       "citric acid             False\n",
       "residual sugar          False\n",
       "chlorides               False\n",
       "free sulfur dioxide     False\n",
       "total sulfur dioxide    False\n",
       "density                 False\n",
       "pH                      False\n",
       "sulphates               False\n",
       "alcohol                 False\n",
       "quality                 False\n",
       "type                     True\n",
       "dtype: bool"
      ]
     },
     "execution_count": 16,
     "metadata": {},
     "output_type": "execute_result"
    }
   ],
   "source": [
    "dataset.dtypes==object"
   ]
  },
  {
   "cell_type": "markdown",
   "metadata": {
    "id": "Vg3sjJ4C9kwv"
   },
   "source": [
    "Which result give us True then we can that variable preprocessing or Encoding"
   ]
  },
  {
   "cell_type": "code",
   "execution_count": 17,
   "metadata": {
    "id": "dbsOj9_89kwv"
   },
   "outputs": [],
   "source": [
    "from sklearn import preprocessing\n",
    "\n",
    "dataset['type'] = preprocessing.LabelEncoder().fit_transform(dataset['type'])"
   ]
  },
  {
   "cell_type": "code",
   "execution_count": 18,
   "metadata": {
    "colab": {
     "base_uri": "https://localhost:8080/"
    },
    "id": "IZiB02UP9kwv",
    "outputId": "46ca7369-9a4d-4518-90ad-228760637c52"
   },
   "outputs": [
    {
     "data": {
      "text/plain": [
       "fixed acidity           float64\n",
       "volatile acidity        float64\n",
       "citric acid             float64\n",
       "residual sugar          float64\n",
       "chlorides               float64\n",
       "free sulfur dioxide     float64\n",
       "total sulfur dioxide    float64\n",
       "density                 float64\n",
       "pH                      float64\n",
       "sulphates               float64\n",
       "alcohol                 float64\n",
       "quality                   int64\n",
       "type                      int32\n",
       "dtype: object"
      ]
     },
     "execution_count": 18,
     "metadata": {},
     "output_type": "execute_result"
    }
   ],
   "source": [
    "dataset.dtypes"
   ]
  },
  {
   "cell_type": "markdown",
   "metadata": {
    "id": "Ctkp6_JX9kww"
   },
   "source": [
    "## Split dependent and independent data"
   ]
  },
  {
   "cell_type": "code",
   "execution_count": 19,
   "metadata": {
    "id": "4eQNo1pU9kww"
   },
   "outputs": [],
   "source": [
    "X = dataset.iloc[:, :-1].values\n",
    "y = dataset.iloc[:, -1].values"
   ]
  },
  {
   "cell_type": "code",
   "execution_count": 20,
   "metadata": {
    "colab": {
     "base_uri": "https://localhost:8080/"
    },
    "id": "GedP-U5S9kww",
    "outputId": "2d15a262-a20c-4d6e-f15b-82876dd250c3"
   },
   "outputs": [
    {
     "data": {
      "text/plain": [
       "array([[ 7.   ,  0.27 ,  0.36 , ...,  0.45 ,  8.8  ,  6.   ],\n",
       "       [ 6.3  ,  0.3  ,  0.34 , ...,  0.49 ,  9.5  ,  6.   ],\n",
       "       [ 8.1  ,  0.28 ,  0.4  , ...,  0.44 , 10.1  ,  6.   ],\n",
       "       ...,\n",
       "       [ 6.3  ,  0.51 ,  0.13 , ...,  0.75 , 11.   ,  6.   ],\n",
       "       [ 5.9  ,  0.645,  0.12 , ...,  0.71 , 10.2  ,  5.   ],\n",
       "       [ 6.   ,  0.31 ,  0.47 , ...,  0.66 , 11.   ,  6.   ]])"
      ]
     },
     "execution_count": 20,
     "metadata": {},
     "output_type": "execute_result"
    }
   ],
   "source": [
    "X"
   ]
  },
  {
   "cell_type": "code",
   "execution_count": 21,
   "metadata": {
    "colab": {
     "base_uri": "https://localhost:8080/"
    },
    "id": "8sX3WpVA9kww",
    "outputId": "97447adb-1707-401c-c75d-662ba5412d35"
   },
   "outputs": [
    {
     "data": {
      "text/plain": [
       "array([1, 1, 1, ..., 0, 0, 0])"
      ]
     },
     "execution_count": 21,
     "metadata": {},
     "output_type": "execute_result"
    }
   ],
   "source": [
    "y"
   ]
  },
  {
   "cell_type": "markdown",
   "metadata": {
    "id": "tA8_JPMH9kww"
   },
   "source": [
    "## Splitting the dataset into the Training set and Test set"
   ]
  },
  {
   "cell_type": "code",
   "execution_count": 22,
   "metadata": {
    "id": "savxkJKr9kwx"
   },
   "outputs": [],
   "source": [
    "from sklearn.model_selection import train_test_split\n",
    "\n",
    "X_train, X_test, y_train, y_test = train_test_split(X, y, test_size = 0.40, random_state = 0)"
   ]
  },
  {
   "cell_type": "markdown",
   "metadata": {
    "id": "-7P4gxs59kwx"
   },
   "source": [
    "## Feature Scaling"
   ]
  },
  {
   "cell_type": "code",
   "execution_count": 23,
   "metadata": {
    "colab": {
     "base_uri": "https://localhost:8080/"
    },
    "id": "KwR4pOwE9kwx",
    "outputId": "5fda1e0a-2041-4e8b-abf1-0847fa1db946"
   },
   "outputs": [
    {
     "name": "stdout",
     "output_type": "stream",
     "text": [
      "[[-1.16708495  0.12145241  0.15604881 ... -0.54965858  1.18840014\n",
      "   0.20055264]\n",
      " [-0.32603135 -0.41984129  1.21269898 ... -0.35027564  1.35786819\n",
      "   1.34681977]\n",
      " [-0.40249077 -0.23941006 -0.19616791 ...  0.6466391   0.67999599\n",
      "   1.34681977]\n",
      " ...\n",
      " [ 0.51502224 -0.05897882 -0.26661125 ... -1.01488546 -1.43835464\n",
      "   0.20055264]\n",
      " [ 1.27961642 -0.47998503  0.08560547 ... -0.4831976   0.25632586\n",
      "   0.20055264]\n",
      " [ 0.51502224  1.02360856  0.15604881 ... -0.15089269 -0.42154634\n",
      "  -0.9457145 ]]\n",
      "[[ 3.57339896  0.24173989  1.35358567 ...  1.51063188 -0.08261024\n",
      "   0.20055264]\n",
      " [ 1.35607584  0.72288984 -0.05528122 ...  0.6466391  -0.84521647\n",
      "   0.20055264]\n",
      " [ 0.20918457 -0.84084749  0.64915223 ... -0.08443171  0.51052794\n",
      "  -0.9457145 ]\n",
      " ...\n",
      " [-0.40249077 -0.35969754 -0.26661125 ...  0.31433419  1.18840014\n",
      "   0.20055264]\n",
      " [-1.01416611 -0.72056     0.93092561 ... -1.21426841  1.95100637\n",
      "  -0.9457145 ]\n",
      " [ 0.36210341 -0.84084749  0.86048226 ... -0.35027564 -0.42154634\n",
      "   0.20055264]]\n"
     ]
    }
   ],
   "source": [
    "from sklearn.preprocessing import StandardScaler\n",
    "\n",
    "sc = StandardScaler()\n",
    "X_train = sc.fit_transform(X_train)\n",
    "X_test = sc.transform(X_test)\n",
    "print(X_train)\n",
    "print(X_test)"
   ]
  },
  {
   "cell_type": "markdown",
   "metadata": {
    "id": "wG0M7J579kwx"
   },
   "source": [
    "## Support Vector Machine (SVM) Model train using train set"
   ]
  },
  {
   "cell_type": "code",
   "execution_count": 24,
   "metadata": {
    "colab": {
     "base_uri": "https://localhost:8080/"
    },
    "id": "jI3_HkUQ9kwx",
    "outputId": "89c148ff-ee2d-4c50-af44-3be85be8a956"
   },
   "outputs": [
    {
     "data": {
      "text/plain": [
       "SVC(random_state=0)"
      ]
     },
     "execution_count": 24,
     "metadata": {},
     "output_type": "execute_result"
    }
   ],
   "source": [
    "from sklearn.svm import SVC\n",
    "\n",
    "classifier = SVC(kernel = 'rbf', random_state = 0)\n",
    "classifier.fit(X_train, y_train)"
   ]
  },
  {
   "cell_type": "markdown",
   "metadata": {
    "id": "69AllBvF9kwy"
   },
   "source": [
    "## Predicting using Test set"
   ]
  },
  {
   "cell_type": "code",
   "execution_count": 25,
   "metadata": {
    "id": "uFHLXRcR9kwy"
   },
   "outputs": [],
   "source": [
    "y_pred = classifier.predict(X_test)"
   ]
  },
  {
   "cell_type": "code",
   "execution_count": 26,
   "metadata": {
    "colab": {
     "base_uri": "https://localhost:8080/"
    },
    "id": "Esgo2W3r9kwy",
    "outputId": "b07ae893-0fd0-413f-b4ab-73a8e09fd680"
   },
   "outputs": [
    {
     "data": {
      "text/plain": [
       "array([0, 0, 1, ..., 1, 1, 1])"
      ]
     },
     "execution_count": 26,
     "metadata": {},
     "output_type": "execute_result"
    }
   ],
   "source": [
    "y_pred"
   ]
  },
  {
   "cell_type": "markdown",
   "metadata": {
    "id": "k3rHzMPI9kwy"
   },
   "source": [
    "## Making the Confusion Matrix"
   ]
  },
  {
   "cell_type": "code",
   "execution_count": 27,
   "metadata": {
    "colab": {
     "base_uri": "https://localhost:8080/"
    },
    "id": "xaIAsJKK9kwy",
    "outputId": "6def6a9d-1ea3-48df-a2fd-f4d9e6f81168"
   },
   "outputs": [
    {
     "data": {
      "text/plain": [
       "array([[ 619,    7],\n",
       "       [   2, 1971]], dtype=int64)"
      ]
     },
     "execution_count": 27,
     "metadata": {},
     "output_type": "execute_result"
    }
   ],
   "source": [
    "from sklearn.metrics import confusion_matrix, accuracy_score\n",
    "\n",
    "cm = confusion_matrix(y_test, y_pred)\n",
    "cm"
   ]
  },
  {
   "cell_type": "code",
   "execution_count": 28,
   "metadata": {
    "colab": {
     "base_uri": "https://localhost:8080/"
    },
    "id": "_Sne6Mke9kwz",
    "outputId": "62eb516c-5a14-4188-e175-b73f052af163"
   },
   "outputs": [
    {
     "name": "stdout",
     "output_type": "stream",
     "text": [
      "Accuracy of model :  0.9965371296652559\n"
     ]
    }
   ],
   "source": [
    "cm_accuracy = accuracy_score(y_test, y_pred)\n",
    "print(\"Accuracy of model : \", cm_accuracy)"
   ]
  },
  {
   "cell_type": "markdown",
   "metadata": {
    "id": "fgNWAUXy9kwz"
   },
   "source": [
    "*OR*"
   ]
  },
  {
   "cell_type": "code",
   "execution_count": 29,
   "metadata": {
    "colab": {
     "base_uri": "https://localhost:8080/"
    },
    "id": "mzNvg8KU9kwz",
    "outputId": "a4dcdb2e-55c4-46e6-ecf7-0a0f14223e49"
   },
   "outputs": [
    {
     "name": "stdout",
     "output_type": "stream",
     "text": [
      "Accuracy score :  0.9965371296652559\n"
     ]
    }
   ],
   "source": [
    "print(\"Accuracy score : \", np.mean(y_pred==y_test))"
   ]
  },
  {
   "cell_type": "markdown",
   "metadata": {
    "id": "RAWfgvdc9kwz"
   },
   "source": [
    "Accuracy of our model prediction is **99%** Accurated"
   ]
  },
  {
   "cell_type": "markdown",
   "metadata": {
    "id": "-OahaXLb9kwz"
   },
   "source": [
    "## Classification_report"
   ]
  },
  {
   "cell_type": "code",
   "execution_count": 30,
   "metadata": {
    "colab": {
     "base_uri": "https://localhost:8080/"
    },
    "id": "iDceNl9F9kw0",
    "outputId": "4a3dc509-cb08-47af-bb40-0400236e324b"
   },
   "outputs": [
    {
     "name": "stdout",
     "output_type": "stream",
     "text": [
      "              precision    recall  f1-score   support\n",
      "\n",
      "           0       1.00      0.99      0.99       626\n",
      "           1       1.00      1.00      1.00      1973\n",
      "\n",
      "    accuracy                           1.00      2599\n",
      "   macro avg       1.00      0.99      1.00      2599\n",
      "weighted avg       1.00      1.00      1.00      2599\n",
      "\n"
     ]
    }
   ],
   "source": [
    "from sklearn import metrics\n",
    "\n",
    "print (metrics.classification_report(y_test, classifier.predict(X_test)))"
   ]
  }
 ],
 "metadata": {
  "colab": {
   "name": " Kernel_SVM.ipynb",
   "provenance": [],
   "toc_visible": true
  },
  "kernelspec": {
   "display_name": "Python 3",
   "language": "python",
   "name": "python3"
  },
  "language_info": {
   "codemirror_mode": {
    "name": "ipython",
    "version": 3
   },
   "file_extension": ".py",
   "mimetype": "text/x-python",
   "name": "python",
   "nbconvert_exporter": "python",
   "pygments_lexer": "ipython3",
   "version": "3.8.7"
  }
 },
 "nbformat": 4,
 "nbformat_minor": 1
}
