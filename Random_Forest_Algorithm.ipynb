{
  "nbformat": 4,
  "nbformat_minor": 0,
  "metadata": {
    "kernelspec": {
      "display_name": "Python 3",
      "language": "python",
      "name": "python3"
    },
    "language_info": {
      "codemirror_mode": {
        "name": "ipython",
        "version": 3
      },
      "file_extension": ".py",
      "mimetype": "text/x-python",
      "name": "python",
      "nbconvert_exporter": "python",
      "pygments_lexer": "ipython3",
      "version": "3.8.6"
    },
    "colab": {
      "name": "Random Forest Algorithm.ipynb",
      "provenance": [],
      "collapsed_sections": [
        "Pcnd2tkyUTNz",
        "9fqPUvs2UTN9",
        "7aPjaNUfUTOM",
        "uRDctTDUUTOi",
        "ou2HdDElUTO4",
        "VDh095VjUTO-",
        "yEcyNlW4UTPN",
        "JWuk6gwBUTPW",
        "3vGUlv0fUTPa",
        "FkstGRzLUTPi",
        "h_Z8z_z2UTPm"
      ],
      "include_colab_link": true
    }
  },
  "cells": [
    {
      "cell_type": "markdown",
      "metadata": {
        "id": "view-in-github",
        "colab_type": "text"
      },
      "source": [
        "<a href=\"https://colab.research.google.com/github/Alpeshpatel03434/Data-Science/blob/main/Random_Forest_Algorithm.ipynb\" target=\"_parent\"><img src=\"https://colab.research.google.com/assets/colab-badge.svg\" alt=\"Open In Colab\"/></a>"
      ]
    },
    {
      "cell_type": "markdown",
      "metadata": {
        "id": "LXhVfVBEUTNI"
      },
      "source": [
        "## AIM : Random Forest Algorithm"
      ]
    },
    {
      "cell_type": "markdown",
      "metadata": {
        "id": "-WkEkNEhUTNK"
      },
      "source": [
        "### Dataset : Gender Classification"
      ]
    },
    {
      "cell_type": "markdown",
      "metadata": {
        "id": "Hf5XJK3zUTNL"
      },
      "source": [
        "### Link :   https://www.kaggle.com/hb20007/gender-classification/download"
      ]
    },
    {
      "cell_type": "markdown",
      "metadata": {
        "id": "ky2TGkCzUTNM"
      },
      "source": [
        "### import library"
      ]
    },
    {
      "cell_type": "code",
      "metadata": {
        "id": "Ge6UI2FiUTNN"
      },
      "source": [
        "import pandas as pd\n",
        "import numpy as np\n",
        "import matplotlib.pyplot as plt\n",
        "%matplotlib inline\n",
        "import seaborn as sns"
      ],
      "execution_count": null,
      "outputs": []
    },
    {
      "cell_type": "code",
      "metadata": {
        "id": "Ck3muk2yUTNS",
        "outputId": "ff7ad0df-a220-46de-ba30-87d732bf278f"
      },
      "source": [
        "# read csv file\n",
        "gen_df = pd.read_csv(\"Gender.csv\")\n",
        "gen_df.head()"
      ],
      "execution_count": null,
      "outputs": [
        {
          "output_type": "execute_result",
          "data": {
            "text/html": [
              "<div>\n",
              "<style scoped>\n",
              "    .dataframe tbody tr th:only-of-type {\n",
              "        vertical-align: middle;\n",
              "    }\n",
              "\n",
              "    .dataframe tbody tr th {\n",
              "        vertical-align: top;\n",
              "    }\n",
              "\n",
              "    .dataframe thead th {\n",
              "        text-align: right;\n",
              "    }\n",
              "</style>\n",
              "<table border=\"1\" class=\"dataframe\">\n",
              "  <thead>\n",
              "    <tr style=\"text-align: right;\">\n",
              "      <th></th>\n",
              "      <th>Favorite Color</th>\n",
              "      <th>Favorite Music Genre</th>\n",
              "      <th>Favorite Beverage</th>\n",
              "      <th>Favorite Soft Drink</th>\n",
              "      <th>Gender</th>\n",
              "    </tr>\n",
              "  </thead>\n",
              "  <tbody>\n",
              "    <tr>\n",
              "      <th>0</th>\n",
              "      <td>Cool</td>\n",
              "      <td>Rock</td>\n",
              "      <td>Vodka</td>\n",
              "      <td>7UP/Sprite</td>\n",
              "      <td>F</td>\n",
              "    </tr>\n",
              "    <tr>\n",
              "      <th>1</th>\n",
              "      <td>Neutral</td>\n",
              "      <td>Hip hop</td>\n",
              "      <td>Vodka</td>\n",
              "      <td>Coca Cola/Pepsi</td>\n",
              "      <td>F</td>\n",
              "    </tr>\n",
              "    <tr>\n",
              "      <th>2</th>\n",
              "      <td>Warm</td>\n",
              "      <td>Rock</td>\n",
              "      <td>Wine</td>\n",
              "      <td>Coca Cola/Pepsi</td>\n",
              "      <td>F</td>\n",
              "    </tr>\n",
              "    <tr>\n",
              "      <th>3</th>\n",
              "      <td>Warm</td>\n",
              "      <td>Folk/Traditional</td>\n",
              "      <td>Whiskey</td>\n",
              "      <td>Fanta</td>\n",
              "      <td>F</td>\n",
              "    </tr>\n",
              "    <tr>\n",
              "      <th>4</th>\n",
              "      <td>Cool</td>\n",
              "      <td>Rock</td>\n",
              "      <td>Vodka</td>\n",
              "      <td>Coca Cola/Pepsi</td>\n",
              "      <td>F</td>\n",
              "    </tr>\n",
              "  </tbody>\n",
              "</table>\n",
              "</div>"
            ],
            "text/plain": [
              "  Favorite Color Favorite Music Genre Favorite Beverage Favorite Soft Drink  \\\n",
              "0           Cool                 Rock             Vodka          7UP/Sprite   \n",
              "1        Neutral              Hip hop             Vodka     Coca Cola/Pepsi   \n",
              "2           Warm                 Rock              Wine     Coca Cola/Pepsi   \n",
              "3           Warm     Folk/Traditional           Whiskey               Fanta   \n",
              "4           Cool                 Rock             Vodka     Coca Cola/Pepsi   \n",
              "\n",
              "  Gender  \n",
              "0      F  \n",
              "1      F  \n",
              "2      F  \n",
              "3      F  \n",
              "4      F  "
            ]
          },
          "metadata": {
            "tags": []
          },
          "execution_count": 2
        }
      ]
    },
    {
      "cell_type": "code",
      "metadata": {
        "id": "TvX050pkUTNX",
        "outputId": "bd03adad-ef33-479c-ac2c-ef5524fe447c"
      },
      "source": [
        "gen_df.shape"
      ],
      "execution_count": null,
      "outputs": [
        {
          "output_type": "execute_result",
          "data": {
            "text/plain": [
              "(66, 5)"
            ]
          },
          "metadata": {
            "tags": []
          },
          "execution_count": 3
        }
      ]
    },
    {
      "cell_type": "code",
      "metadata": {
        "id": "hYK4VO-1UTNb",
        "outputId": "8a630917-4994-4fa7-889e-df311f205f2d"
      },
      "source": [
        "gen_df.info()"
      ],
      "execution_count": null,
      "outputs": [
        {
          "output_type": "stream",
          "text": [
            "<class 'pandas.core.frame.DataFrame'>\n",
            "RangeIndex: 66 entries, 0 to 65\n",
            "Data columns (total 5 columns):\n",
            " #   Column                Non-Null Count  Dtype \n",
            "---  ------                --------------  ----- \n",
            " 0   Favorite Color        66 non-null     object\n",
            " 1   Favorite Music Genre  66 non-null     object\n",
            " 2   Favorite Beverage     66 non-null     object\n",
            " 3   Favorite Soft Drink   66 non-null     object\n",
            " 4   Gender                66 non-null     object\n",
            "dtypes: object(5)\n",
            "memory usage: 2.7+ KB\n"
          ],
          "name": "stdout"
        }
      ]
    },
    {
      "cell_type": "code",
      "metadata": {
        "id": "-ESS_VJwUTNf",
        "outputId": "cdcc4cf0-4345-494c-90c9-171655bb1944"
      },
      "source": [
        "gen_df.describe()"
      ],
      "execution_count": null,
      "outputs": [
        {
          "output_type": "execute_result",
          "data": {
            "text/html": [
              "<div>\n",
              "<style scoped>\n",
              "    .dataframe tbody tr th:only-of-type {\n",
              "        vertical-align: middle;\n",
              "    }\n",
              "\n",
              "    .dataframe tbody tr th {\n",
              "        vertical-align: top;\n",
              "    }\n",
              "\n",
              "    .dataframe thead th {\n",
              "        text-align: right;\n",
              "    }\n",
              "</style>\n",
              "<table border=\"1\" class=\"dataframe\">\n",
              "  <thead>\n",
              "    <tr style=\"text-align: right;\">\n",
              "      <th></th>\n",
              "      <th>Favorite Color</th>\n",
              "      <th>Favorite Music Genre</th>\n",
              "      <th>Favorite Beverage</th>\n",
              "      <th>Favorite Soft Drink</th>\n",
              "      <th>Gender</th>\n",
              "    </tr>\n",
              "  </thead>\n",
              "  <tbody>\n",
              "    <tr>\n",
              "      <th>count</th>\n",
              "      <td>66</td>\n",
              "      <td>66</td>\n",
              "      <td>66</td>\n",
              "      <td>66</td>\n",
              "      <td>66</td>\n",
              "    </tr>\n",
              "    <tr>\n",
              "      <th>unique</th>\n",
              "      <td>3</td>\n",
              "      <td>7</td>\n",
              "      <td>6</td>\n",
              "      <td>4</td>\n",
              "      <td>2</td>\n",
              "    </tr>\n",
              "    <tr>\n",
              "      <th>top</th>\n",
              "      <td>Cool</td>\n",
              "      <td>Rock</td>\n",
              "      <td>Doesn't drink</td>\n",
              "      <td>Coca Cola/Pepsi</td>\n",
              "      <td>M</td>\n",
              "    </tr>\n",
              "    <tr>\n",
              "      <th>freq</th>\n",
              "      <td>37</td>\n",
              "      <td>19</td>\n",
              "      <td>14</td>\n",
              "      <td>32</td>\n",
              "      <td>33</td>\n",
              "    </tr>\n",
              "  </tbody>\n",
              "</table>\n",
              "</div>"
            ],
            "text/plain": [
              "       Favorite Color Favorite Music Genre Favorite Beverage  \\\n",
              "count              66                   66                66   \n",
              "unique              3                    7                 6   \n",
              "top              Cool                 Rock     Doesn't drink   \n",
              "freq               37                   19                14   \n",
              "\n",
              "       Favorite Soft Drink Gender  \n",
              "count                   66     66  \n",
              "unique                   4      2  \n",
              "top        Coca Cola/Pepsi      M  \n",
              "freq                    32     33  "
            ]
          },
          "metadata": {
            "tags": []
          },
          "execution_count": 5
        }
      ]
    },
    {
      "cell_type": "code",
      "metadata": {
        "id": "JwkQDGq-UTNi",
        "outputId": "1f80eafc-ea0a-4e44-bf7a-e50ba742ad68"
      },
      "source": [
        "gen_df.corr()"
      ],
      "execution_count": null,
      "outputs": [
        {
          "output_type": "execute_result",
          "data": {
            "text/html": [
              "<div>\n",
              "<style scoped>\n",
              "    .dataframe tbody tr th:only-of-type {\n",
              "        vertical-align: middle;\n",
              "    }\n",
              "\n",
              "    .dataframe tbody tr th {\n",
              "        vertical-align: top;\n",
              "    }\n",
              "\n",
              "    .dataframe thead th {\n",
              "        text-align: right;\n",
              "    }\n",
              "</style>\n",
              "<table border=\"1\" class=\"dataframe\">\n",
              "  <thead>\n",
              "    <tr style=\"text-align: right;\">\n",
              "      <th></th>\n",
              "    </tr>\n",
              "  </thead>\n",
              "  <tbody>\n",
              "  </tbody>\n",
              "</table>\n",
              "</div>"
            ],
            "text/plain": [
              "Empty DataFrame\n",
              "Columns: []\n",
              "Index: []"
            ]
          },
          "metadata": {
            "tags": []
          },
          "execution_count": 6
        }
      ]
    },
    {
      "cell_type": "markdown",
      "metadata": {
        "id": "hv8NP1lzUTNl"
      },
      "source": [
        "### Misiing value care"
      ]
    },
    {
      "cell_type": "code",
      "metadata": {
        "id": "ldnvRA71UTNm",
        "outputId": "6c17999b-cf87-4553-e4f3-218010303cf0"
      },
      "source": [
        "# cheack missing value\n",
        "gen_df.isna().sum()"
      ],
      "execution_count": null,
      "outputs": [
        {
          "output_type": "execute_result",
          "data": {
            "text/plain": [
              "Favorite Color          0\n",
              "Favorite Music Genre    0\n",
              "Favorite Beverage       0\n",
              "Favorite Soft Drink     0\n",
              "Gender                  0\n",
              "dtype: int64"
            ]
          },
          "metadata": {
            "tags": []
          },
          "execution_count": 7
        }
      ]
    },
    {
      "cell_type": "markdown",
      "metadata": {
        "id": "WTMf1-eYUTNp"
      },
      "source": [
        "### Encoding catagorical variable"
      ]
    },
    {
      "cell_type": "code",
      "metadata": {
        "scrolled": true,
        "id": "ttceKC5xUTNq",
        "outputId": "a06c2077-ae3c-4107-cec2-79bc6b280339"
      },
      "source": [
        "gen_df.dtypes"
      ],
      "execution_count": null,
      "outputs": [
        {
          "output_type": "execute_result",
          "data": {
            "text/plain": [
              "Favorite Color          object\n",
              "Favorite Music Genre    object\n",
              "Favorite Beverage       object\n",
              "Favorite Soft Drink     object\n",
              "Gender                  object\n",
              "dtype: object"
            ]
          },
          "metadata": {
            "tags": []
          },
          "execution_count": 8
        }
      ]
    },
    {
      "cell_type": "code",
      "metadata": {
        "id": "3d6ZDlOMUTNt"
      },
      "source": [
        "from sklearn import preprocessing\n",
        "\n",
        "gen_df['Favorite Color'] = preprocessing.LabelEncoder().fit_transform(gen_df['Favorite Color'])\n",
        "gen_df['Favorite Music Genre'] = preprocessing.LabelEncoder().fit_transform(gen_df['Favorite Music Genre'])\n",
        "gen_df['Favorite Beverage'] = preprocessing.LabelEncoder().fit_transform(gen_df['Favorite Beverage'])\n",
        "gen_df['Favorite Soft Drink'] = preprocessing.LabelEncoder().fit_transform(gen_df['Favorite Soft Drink'])\n",
        "gen_df['Gender'] = preprocessing.LabelEncoder().fit_transform(gen_df['Gender'])"
      ],
      "execution_count": null,
      "outputs": []
    },
    {
      "cell_type": "code",
      "metadata": {
        "id": "HJHeCp8RUTNw",
        "outputId": "4966e1bc-42fd-4cf3-b72e-6b15b2dd0ca9"
      },
      "source": [
        "gen_df.head()"
      ],
      "execution_count": null,
      "outputs": [
        {
          "output_type": "execute_result",
          "data": {
            "text/html": [
              "<div>\n",
              "<style scoped>\n",
              "    .dataframe tbody tr th:only-of-type {\n",
              "        vertical-align: middle;\n",
              "    }\n",
              "\n",
              "    .dataframe tbody tr th {\n",
              "        vertical-align: top;\n",
              "    }\n",
              "\n",
              "    .dataframe thead th {\n",
              "        text-align: right;\n",
              "    }\n",
              "</style>\n",
              "<table border=\"1\" class=\"dataframe\">\n",
              "  <thead>\n",
              "    <tr style=\"text-align: right;\">\n",
              "      <th></th>\n",
              "      <th>Favorite Color</th>\n",
              "      <th>Favorite Music Genre</th>\n",
              "      <th>Favorite Beverage</th>\n",
              "      <th>Favorite Soft Drink</th>\n",
              "      <th>Gender</th>\n",
              "    </tr>\n",
              "  </thead>\n",
              "  <tbody>\n",
              "    <tr>\n",
              "      <th>0</th>\n",
              "      <td>0</td>\n",
              "      <td>6</td>\n",
              "      <td>3</td>\n",
              "      <td>0</td>\n",
              "      <td>0</td>\n",
              "    </tr>\n",
              "    <tr>\n",
              "      <th>1</th>\n",
              "      <td>1</td>\n",
              "      <td>2</td>\n",
              "      <td>3</td>\n",
              "      <td>1</td>\n",
              "      <td>0</td>\n",
              "    </tr>\n",
              "    <tr>\n",
              "      <th>2</th>\n",
              "      <td>2</td>\n",
              "      <td>6</td>\n",
              "      <td>5</td>\n",
              "      <td>1</td>\n",
              "      <td>0</td>\n",
              "    </tr>\n",
              "    <tr>\n",
              "      <th>3</th>\n",
              "      <td>2</td>\n",
              "      <td>1</td>\n",
              "      <td>4</td>\n",
              "      <td>2</td>\n",
              "      <td>0</td>\n",
              "    </tr>\n",
              "    <tr>\n",
              "      <th>4</th>\n",
              "      <td>0</td>\n",
              "      <td>6</td>\n",
              "      <td>3</td>\n",
              "      <td>1</td>\n",
              "      <td>0</td>\n",
              "    </tr>\n",
              "  </tbody>\n",
              "</table>\n",
              "</div>"
            ],
            "text/plain": [
              "   Favorite Color  Favorite Music Genre  Favorite Beverage  \\\n",
              "0               0                     6                  3   \n",
              "1               1                     2                  3   \n",
              "2               2                     6                  5   \n",
              "3               2                     1                  4   \n",
              "4               0                     6                  3   \n",
              "\n",
              "   Favorite Soft Drink  Gender  \n",
              "0                    0       0  \n",
              "1                    1       0  \n",
              "2                    1       0  \n",
              "3                    2       0  \n",
              "4                    1       0  "
            ]
          },
          "metadata": {
            "tags": []
          },
          "execution_count": 10
        }
      ]
    },
    {
      "cell_type": "markdown",
      "metadata": {
        "id": "Pcnd2tkyUTNz"
      },
      "source": [
        "### Split dependent and independent data"
      ]
    },
    {
      "cell_type": "code",
      "metadata": {
        "id": "Mbeb6QcyUTN0"
      },
      "source": [
        "X = gen_df.iloc[:, :-1].values\n",
        "y = gen_df.iloc[:, -1].values"
      ],
      "execution_count": null,
      "outputs": []
    },
    {
      "cell_type": "code",
      "metadata": {
        "id": "eLvIaWnxUTN2",
        "outputId": "6f5b79fc-f349-4f03-9409-493090edea6b"
      },
      "source": [
        "print(X)"
      ],
      "execution_count": null,
      "outputs": [
        {
          "output_type": "stream",
          "text": [
            "[[0 6 3 0]\n",
            " [1 2 3 1]\n",
            " [2 6 5 1]\n",
            " [2 1 4 2]\n",
            " [0 6 3 1]\n",
            " [2 3 1 2]\n",
            " [0 4 0 1]\n",
            " [2 4 4 2]\n",
            " [2 6 2 0]\n",
            " [1 4 5 1]\n",
            " [0 4 2 0]\n",
            " [2 4 2 0]\n",
            " [2 4 5 0]\n",
            " [2 0 5 1]\n",
            " [0 6 0 1]\n",
            " [2 3 5 1]\n",
            " [0 4 5 0]\n",
            " [0 6 2 1]\n",
            " [0 6 2 1]\n",
            " [0 4 1 0]\n",
            " [0 4 0 2]\n",
            " [2 3 4 2]\n",
            " [0 6 3 1]\n",
            " [2 4 2 1]\n",
            " [0 1 4 0]\n",
            " [2 5 4 1]\n",
            " [0 4 0 3]\n",
            " [0 4 1 3]\n",
            " [0 4 1 1]\n",
            " [0 0 1 2]\n",
            " [2 6 2 1]\n",
            " [1 6 0 1]\n",
            " [0 5 0 1]\n",
            " [2 5 5 3]\n",
            " [1 2 0 0]\n",
            " [2 0 2 1]\n",
            " [1 6 1 1]\n",
            " [0 4 2 2]\n",
            " [0 4 4 2]\n",
            " [2 6 3 0]\n",
            " [0 6 3 1]\n",
            " [1 4 1 0]\n",
            " [2 5 1 1]\n",
            " [0 6 5 0]\n",
            " [0 1 0 3]\n",
            " [0 2 0 1]\n",
            " [0 2 5 1]\n",
            " [0 5 4 0]\n",
            " [0 6 1 3]\n",
            " [2 2 0 1]\n",
            " [0 5 1 1]\n",
            " [0 6 1 1]\n",
            " [0 2 1 3]\n",
            " [2 6 0 2]\n",
            " [0 0 1 2]\n",
            " [0 0 2 2]\n",
            " [2 1 2 2]\n",
            " [2 0 3 2]\n",
            " [2 3 3 1]\n",
            " [0 4 4 3]\n",
            " [0 0 4 1]\n",
            " [0 6 3 1]\n",
            " [0 2 0 1]\n",
            " [1 2 1 2]\n",
            " [0 6 5 1]\n",
            " [0 0 0 1]]\n"
          ],
          "name": "stdout"
        }
      ]
    },
    {
      "cell_type": "code",
      "metadata": {
        "id": "feiswl8sUTN6",
        "outputId": "e81f023b-0cef-4d07-bcad-a78c6c67f336"
      },
      "source": [
        "print(y)"
      ],
      "execution_count": null,
      "outputs": [
        {
          "output_type": "stream",
          "text": [
            "[0 0 0 0 0 0 0 0 0 0 0 0 0 0 0 0 0 0 0 0 0 0 0 0 0 0 0 0 0 0 0 0 0 1 1 1 1\n",
            " 1 1 1 1 1 1 1 1 1 1 1 1 1 1 1 1 1 1 1 1 1 1 1 1 1 1 1 1 1]\n"
          ],
          "name": "stdout"
        }
      ]
    },
    {
      "cell_type": "markdown",
      "metadata": {
        "id": "9fqPUvs2UTN9"
      },
      "source": [
        "### Splitting the dataset into the Training set and Test set"
      ]
    },
    {
      "cell_type": "code",
      "metadata": {
        "id": "cdTQw0YfUTN-"
      },
      "source": [
        "from sklearn.model_selection import train_test_split\n",
        "\n",
        "X_train, X_test, y_train, y_test = train_test_split(X, y, test_size = 0.25, random_state = 0)"
      ],
      "execution_count": null,
      "outputs": []
    },
    {
      "cell_type": "code",
      "metadata": {
        "id": "ZZGHCloEUTOA",
        "outputId": "99a6bb1f-f97f-4a9d-84e4-3195b92c10cc"
      },
      "source": [
        "print(X_train)"
      ],
      "execution_count": null,
      "outputs": [
        {
          "output_type": "stream",
          "text": [
            "[[2 6 2 1]\n",
            " [0 4 2 0]\n",
            " [0 6 3 1]\n",
            " [1 4 1 0]\n",
            " [0 6 5 1]\n",
            " [0 5 0 1]\n",
            " [2 4 4 2]\n",
            " [0 6 0 1]\n",
            " [0 4 0 3]\n",
            " [0 4 1 3]\n",
            " [2 1 2 2]\n",
            " [2 5 1 1]\n",
            " [0 6 5 0]\n",
            " [0 0 4 1]\n",
            " [0 6 2 1]\n",
            " [0 2 0 1]\n",
            " [2 3 5 1]\n",
            " [2 3 1 2]\n",
            " [0 4 5 0]\n",
            " [0 4 0 2]\n",
            " [2 0 3 2]\n",
            " [2 6 2 0]\n",
            " [2 0 5 1]\n",
            " [2 5 4 1]\n",
            " [0 4 2 2]\n",
            " [0 6 2 1]\n",
            " [2 2 0 1]\n",
            " [0 2 1 3]\n",
            " [2 3 3 1]\n",
            " [0 4 4 2]\n",
            " [1 2 3 1]\n",
            " [2 4 5 0]\n",
            " [0 0 1 2]\n",
            " [0 1 4 0]\n",
            " [0 4 0 1]\n",
            " [2 4 2 1]\n",
            " [1 6 1 1]\n",
            " [0 5 1 1]\n",
            " [2 3 4 2]\n",
            " [0 4 1 0]\n",
            " [1 4 5 1]\n",
            " [2 6 3 0]\n",
            " [0 6 3 1]\n",
            " [0 4 4 3]\n",
            " [2 1 4 2]\n",
            " [0 6 3 0]\n",
            " [2 6 0 2]\n",
            " [0 5 4 0]\n",
            " [0 1 0 3]]\n"
          ],
          "name": "stdout"
        }
      ]
    },
    {
      "cell_type": "code",
      "metadata": {
        "id": "w_h4rBsNUTOD",
        "outputId": "f857cea2-38d9-4fd9-8c98-7a34dcc5b474"
      },
      "source": [
        "print(y_train)"
      ],
      "execution_count": null,
      "outputs": [
        {
          "output_type": "stream",
          "text": [
            "[0 0 0 1 1 0 0 0 0 0 1 1 1 1 0 1 0 0 0 0 1 0 0 0 1 0 1 1 1 1 0 0 1 0 0 0 1\n",
            " 1 0 0 0 1 1 1 0 0 1 1 1]\n"
          ],
          "name": "stdout"
        }
      ]
    },
    {
      "cell_type": "code",
      "metadata": {
        "id": "62l-pDZhUTOG",
        "outputId": "31a1bd39-d9d3-424d-8712-f235555c9f09"
      },
      "source": [
        "print(X_test)"
      ],
      "execution_count": null,
      "outputs": [
        {
          "output_type": "stream",
          "text": [
            "[[0 2 0 1]\n",
            " [0 4 1 1]\n",
            " [0 0 1 2]\n",
            " [0 0 2 2]\n",
            " [1 2 1 2]\n",
            " [1 6 0 1]\n",
            " [0 6 1 1]\n",
            " [0 2 5 1]\n",
            " [1 2 0 0]\n",
            " [0 6 3 1]\n",
            " [2 0 2 1]\n",
            " [0 6 3 1]\n",
            " [2 5 5 3]\n",
            " [0 6 1 3]\n",
            " [0 0 0 1]\n",
            " [2 6 5 1]\n",
            " [2 4 2 0]]\n"
          ],
          "name": "stdout"
        }
      ]
    },
    {
      "cell_type": "code",
      "metadata": {
        "id": "rL0yb9TiUTOJ",
        "outputId": "916b08a0-3650-4893-9028-7676679fb48f"
      },
      "source": [
        "print(y_test)"
      ],
      "execution_count": null,
      "outputs": [
        {
          "output_type": "stream",
          "text": [
            "[1 0 0 1 1 0 1 1 1 0 1 1 1 1 1 0 0]\n"
          ],
          "name": "stdout"
        }
      ]
    },
    {
      "cell_type": "markdown",
      "metadata": {
        "id": "7aPjaNUfUTOM"
      },
      "source": [
        "###   Feature Scaling"
      ]
    },
    {
      "cell_type": "code",
      "metadata": {
        "id": "KQDY95rDUTOM"
      },
      "source": [
        "from sklearn.preprocessing import StandardScaler\n",
        "\n",
        "sc = StandardScaler()\n",
        "X_train = sc.fit_transform(X_train)\n",
        "X_test = sc.transform(X_test)"
      ],
      "execution_count": null,
      "outputs": []
    },
    {
      "cell_type": "code",
      "metadata": {
        "id": "mWguvVQNUTOO",
        "outputId": "1621cb8a-4942-42b6-d223-e0971ddb3b5e"
      },
      "source": [
        "print(X_train)"
      ],
      "execution_count": null,
      "outputs": [
        {
          "output_type": "stream",
          "text": [
            "[[ 1.25849281  1.1543477  -0.22647954 -0.22599231]\n",
            " [-0.86792607  0.09709467 -0.22647954 -1.33335461]\n",
            " [-0.86792607  1.1543477   0.35759927 -0.22599231]\n",
            " [ 0.19528337  0.09709467 -0.81055835 -1.33335461]\n",
            " [-0.86792607  1.1543477   1.52575689 -0.22599231]\n",
            " [-0.86792607  0.62572119 -1.39463715 -0.22599231]\n",
            " [ 1.25849281  0.09709467  0.94167808  0.88137   ]\n",
            " [-0.86792607  1.1543477  -1.39463715 -0.22599231]\n",
            " [-0.86792607  0.09709467 -1.39463715  1.9887323 ]\n",
            " [-0.86792607  0.09709467 -0.81055835  1.9887323 ]\n",
            " [ 1.25849281 -1.48878489 -0.22647954  0.88137   ]\n",
            " [ 1.25849281  0.62572119 -0.81055835 -0.22599231]\n",
            " [-0.86792607  1.1543477   1.52575689 -1.33335461]\n",
            " [-0.86792607 -2.01741141  0.94167808 -0.22599231]\n",
            " [-0.86792607  1.1543477  -0.22647954 -0.22599231]\n",
            " [-0.86792607 -0.96015837 -1.39463715 -0.22599231]\n",
            " [ 1.25849281 -0.43153185  1.52575689 -0.22599231]\n",
            " [ 1.25849281 -0.43153185 -0.81055835  0.88137   ]\n",
            " [-0.86792607  0.09709467  1.52575689 -1.33335461]\n",
            " [-0.86792607  0.09709467 -1.39463715  0.88137   ]\n",
            " [ 1.25849281 -2.01741141  0.35759927  0.88137   ]\n",
            " [ 1.25849281  1.1543477  -0.22647954 -1.33335461]\n",
            " [ 1.25849281 -2.01741141  1.52575689 -0.22599231]\n",
            " [ 1.25849281  0.62572119  0.94167808 -0.22599231]\n",
            " [-0.86792607  0.09709467 -0.22647954  0.88137   ]\n",
            " [-0.86792607  1.1543477  -0.22647954 -0.22599231]\n",
            " [ 1.25849281 -0.96015837 -1.39463715 -0.22599231]\n",
            " [-0.86792607 -0.96015837 -0.81055835  1.9887323 ]\n",
            " [ 1.25849281 -0.43153185  0.35759927 -0.22599231]\n",
            " [-0.86792607  0.09709467  0.94167808  0.88137   ]\n",
            " [ 0.19528337 -0.96015837  0.35759927 -0.22599231]\n",
            " [ 1.25849281  0.09709467  1.52575689 -1.33335461]\n",
            " [-0.86792607 -2.01741141 -0.81055835  0.88137   ]\n",
            " [-0.86792607 -1.48878489  0.94167808 -1.33335461]\n",
            " [-0.86792607  0.09709467 -1.39463715 -0.22599231]\n",
            " [ 1.25849281  0.09709467 -0.22647954 -0.22599231]\n",
            " [ 0.19528337  1.1543477  -0.81055835 -0.22599231]\n",
            " [-0.86792607  0.62572119 -0.81055835 -0.22599231]\n",
            " [ 1.25849281 -0.43153185  0.94167808  0.88137   ]\n",
            " [-0.86792607  0.09709467 -0.81055835 -1.33335461]\n",
            " [ 0.19528337  0.09709467  1.52575689 -0.22599231]\n",
            " [ 1.25849281  1.1543477   0.35759927 -1.33335461]\n",
            " [-0.86792607  1.1543477   0.35759927 -0.22599231]\n",
            " [-0.86792607  0.09709467  0.94167808  1.9887323 ]\n",
            " [ 1.25849281 -1.48878489  0.94167808  0.88137   ]\n",
            " [-0.86792607  1.1543477   0.35759927 -1.33335461]\n",
            " [ 1.25849281  1.1543477  -1.39463715  0.88137   ]\n",
            " [-0.86792607  0.62572119  0.94167808 -1.33335461]\n",
            " [-0.86792607 -1.48878489 -1.39463715  1.9887323 ]]\n"
          ],
          "name": "stdout"
        }
      ]
    },
    {
      "cell_type": "code",
      "metadata": {
        "id": "Oo5XJqXpUTOR",
        "outputId": "68278bf9-5f78-432b-d690-eee9b1de5f0a"
      },
      "source": [
        "print(X_test)"
      ],
      "execution_count": null,
      "outputs": [
        {
          "output_type": "stream",
          "text": [
            "[[-0.86792607 -0.96015837 -1.39463715 -0.22599231]\n",
            " [-0.86792607  0.09709467 -0.81055835 -0.22599231]\n",
            " [-0.86792607 -2.01741141 -0.81055835  0.88137   ]\n",
            " [-0.86792607 -2.01741141 -0.22647954  0.88137   ]\n",
            " [ 0.19528337 -0.96015837 -0.81055835  0.88137   ]\n",
            " [ 0.19528337  1.1543477  -1.39463715 -0.22599231]\n",
            " [-0.86792607  1.1543477  -0.81055835 -0.22599231]\n",
            " [-0.86792607 -0.96015837  1.52575689 -0.22599231]\n",
            " [ 0.19528337 -0.96015837 -1.39463715 -1.33335461]\n",
            " [-0.86792607  1.1543477   0.35759927 -0.22599231]\n",
            " [ 1.25849281 -2.01741141 -0.22647954 -0.22599231]\n",
            " [-0.86792607  1.1543477   0.35759927 -0.22599231]\n",
            " [ 1.25849281  0.62572119  1.52575689  1.9887323 ]\n",
            " [-0.86792607  1.1543477  -0.81055835  1.9887323 ]\n",
            " [-0.86792607 -2.01741141 -1.39463715 -0.22599231]\n",
            " [ 1.25849281  1.1543477   1.52575689 -0.22599231]\n",
            " [ 1.25849281  0.09709467 -0.22647954 -1.33335461]]\n"
          ],
          "name": "stdout"
        }
      ]
    },
    {
      "cell_type": "markdown",
      "metadata": {
        "id": "R8jvTn9hUTOU"
      },
      "source": [
        "##   Random Forest Classification model using train sat"
      ]
    },
    {
      "cell_type": "code",
      "metadata": {
        "id": "KZjburqhUTOU",
        "outputId": "492e25f3-dc40-4203-f8ba-9348a8ed38e4"
      },
      "source": [
        "from sklearn.ensemble import RandomForestClassifier\n",
        "\n",
        "RF_classifier = RandomForestClassifier(criterion = 'entropy', random_state = 0)\n",
        "RF_classifier.fit(X_train, y_train)"
      ],
      "execution_count": null,
      "outputs": [
        {
          "output_type": "execute_result",
          "data": {
            "text/plain": [
              "RandomForestClassifier(bootstrap=True, ccp_alpha=0.0, class_weight=None,\n",
              "                       criterion='entropy', max_depth=None, max_features='auto',\n",
              "                       max_leaf_nodes=None, max_samples=None,\n",
              "                       min_impurity_decrease=0.0, min_impurity_split=None,\n",
              "                       min_samples_leaf=1, min_samples_split=2,\n",
              "                       min_weight_fraction_leaf=0.0, n_estimators=100,\n",
              "                       n_jobs=None, oob_score=False, random_state=0, verbose=0,\n",
              "                       warm_start=False)"
            ]
          },
          "metadata": {
            "tags": []
          },
          "execution_count": 22
        }
      ]
    },
    {
      "cell_type": "code",
      "metadata": {
        "id": "7LjHKOqWUTOX"
      },
      "source": [
        ""
      ],
      "execution_count": null,
      "outputs": []
    },
    {
      "cell_type": "markdown",
      "metadata": {
        "id": "Xb6Y5-YQUTOa"
      },
      "source": [
        "## Predict test set using our Random Forest  Classification model"
      ]
    },
    {
      "cell_type": "code",
      "metadata": {
        "id": "jIt8bczAUTOa"
      },
      "source": [
        "y_pred = RF_classifier.predict(X_test)"
      ],
      "execution_count": null,
      "outputs": []
    },
    {
      "cell_type": "code",
      "metadata": {
        "id": "PzO6S7B5UTOe",
        "outputId": "a0489e42-5a47-4159-bf64-b8ec9aa97be8"
      },
      "source": [
        "# Prediction value\n",
        "print(y_pred)"
      ],
      "execution_count": null,
      "outputs": [
        {
          "output_type": "stream",
          "text": [
            "[1 0 1 1 1 1 0 0 1 0 1 0 0 0 1 0 0]\n"
          ],
          "name": "stdout"
        }
      ]
    },
    {
      "cell_type": "markdown",
      "metadata": {
        "id": "uRDctTDUUTOi"
      },
      "source": [
        "###   Plots/Graphs"
      ]
    },
    {
      "cell_type": "code",
      "metadata": {
        "id": "IKBMH1frUTOj"
      },
      "source": [
        ""
      ],
      "execution_count": null,
      "outputs": []
    },
    {
      "cell_type": "code",
      "metadata": {
        "id": "-MKWWMkGUTOl"
      },
      "source": [
        "from sklearn import tree\n",
        "\n",
        "RF_classifier_tree = tree.DecisionTreeClassifier()\n",
        "RF_classifier_tree = RF_classifier_tree.fit(X_train, y_train)"
      ],
      "execution_count": null,
      "outputs": []
    },
    {
      "cell_type": "code",
      "metadata": {
        "id": "MtKhxBmpUTOo",
        "outputId": "68db8429-19b7-436d-a3d5-98616b7a532b"
      },
      "source": [
        "# Decision Trees plot\n",
        "\n",
        "plt.figure(figsize=(18, 16))\n",
        "tree.plot_tree(RF_classifier_tree)"
      ],
      "execution_count": null,
      "outputs": [
        {
          "output_type": "execute_result",
          "data": {
            "text/plain": [
              "[Text(313.875, 826.2719999999999, 'X[1] <= -0.696\\ngini = 0.495\\nsamples = 49\\nvalue = [27, 22]'),\n",
              " Text(83.7, 739.296, 'X[2] <= 0.066\\ngini = 0.444\\nsamples = 12\\nvalue = [4, 8]'),\n",
              " Text(41.85, 652.3199999999999, 'gini = 0.0\\nsamples = 6\\nvalue = [0, 6]'),\n",
              " Text(125.55000000000001, 652.3199999999999, 'X[1] <= -1.753\\ngini = 0.444\\nsamples = 6\\nvalue = [4, 2]'),\n",
              " Text(83.7, 565.344, 'X[2] <= 1.234\\ngini = 0.444\\nsamples = 3\\nvalue = [1, 2]'),\n",
              " Text(41.85, 478.368, 'gini = 0.0\\nsamples = 2\\nvalue = [0, 2]'),\n",
              " Text(125.55000000000001, 478.368, 'gini = 0.0\\nsamples = 1\\nvalue = [1, 0]'),\n",
              " Text(167.4, 565.344, 'gini = 0.0\\nsamples = 3\\nvalue = [3, 0]'),\n",
              " Text(544.0500000000001, 739.296, 'X[1] <= 0.361\\ngini = 0.47\\nsamples = 37\\nvalue = [23, 14]'),\n",
              " Text(334.8, 652.3199999999999, 'X[2] <= 1.234\\ngini = 0.388\\nsamples = 19\\nvalue = [14, 5]'),\n",
              " Text(292.95, 565.344, 'X[2] <= 0.066\\ngini = 0.444\\nsamples = 15\\nvalue = [10, 5]'),\n",
              " Text(209.25, 478.368, 'X[2] <= -1.103\\ngini = 0.32\\nsamples = 10\\nvalue = [8, 2]'),\n",
              " Text(167.4, 391.392, 'gini = 0.0\\nsamples = 3\\nvalue = [3, 0]'),\n",
              " Text(251.10000000000002, 391.392, 'X[0] <= 0.727\\ngini = 0.408\\nsamples = 7\\nvalue = [5, 2]'),\n",
              " Text(209.25, 304.41599999999994, 'X[0] <= -0.336\\ngini = 0.48\\nsamples = 5\\nvalue = [3, 2]'),\n",
              " Text(167.4, 217.44000000000005, 'X[2] <= -0.519\\ngini = 0.375\\nsamples = 4\\nvalue = [3, 1]'),\n",
              " Text(125.55000000000001, 130.46399999999994, 'gini = 0.0\\nsamples = 2\\nvalue = [2, 0]'),\n",
              " Text(209.25, 130.46399999999994, 'X[3] <= -0.226\\ngini = 0.5\\nsamples = 2\\nvalue = [1, 1]'),\n",
              " Text(167.4, 43.488000000000056, 'gini = 0.0\\nsamples = 1\\nvalue = [1, 0]'),\n",
              " Text(251.10000000000002, 43.488000000000056, 'gini = 0.0\\nsamples = 1\\nvalue = [0, 1]'),\n",
              " Text(251.10000000000002, 217.44000000000005, 'gini = 0.0\\nsamples = 1\\nvalue = [0, 1]'),\n",
              " Text(292.95, 304.41599999999994, 'gini = 0.0\\nsamples = 2\\nvalue = [2, 0]'),\n",
              " Text(376.65000000000003, 478.368, 'X[0] <= 0.195\\ngini = 0.48\\nsamples = 5\\nvalue = [2, 3]'),\n",
              " Text(334.8, 391.392, 'gini = 0.0\\nsamples = 2\\nvalue = [0, 2]'),\n",
              " Text(418.5, 391.392, 'X[3] <= 0.328\\ngini = 0.444\\nsamples = 3\\nvalue = [2, 1]'),\n",
              " Text(376.65000000000003, 304.41599999999994, 'gini = 0.0\\nsamples = 1\\nvalue = [0, 1]'),\n",
              " Text(460.35, 304.41599999999994, 'gini = 0.0\\nsamples = 2\\nvalue = [2, 0]'),\n",
              " Text(376.65000000000003, 565.344, 'gini = 0.0\\nsamples = 4\\nvalue = [4, 0]'),\n",
              " Text(753.3000000000001, 652.3199999999999, 'X[2] <= 1.234\\ngini = 0.5\\nsamples = 18\\nvalue = [9, 9]'),\n",
              " Text(711.45, 565.344, 'X[2] <= -0.519\\ngini = 0.492\\nsamples = 16\\nvalue = [9, 7]'),\n",
              " Text(627.75, 478.368, 'X[0] <= -0.336\\ngini = 0.444\\nsamples = 6\\nvalue = [2, 4]'),\n",
              " Text(585.9, 391.392, 'X[2] <= -1.103\\ngini = 0.444\\nsamples = 3\\nvalue = [2, 1]'),\n",
              " Text(544.0500000000001, 304.41599999999994, 'gini = 0.0\\nsamples = 2\\nvalue = [2, 0]'),\n",
              " Text(627.75, 304.41599999999994, 'gini = 0.0\\nsamples = 1\\nvalue = [0, 1]'),\n",
              " Text(669.6, 391.392, 'gini = 0.0\\nsamples = 3\\nvalue = [0, 3]'),\n",
              " Text(795.15, 478.368, 'X[2] <= 0.066\\ngini = 0.42\\nsamples = 10\\nvalue = [7, 3]'),\n",
              " Text(753.3000000000001, 391.392, 'gini = 0.0\\nsamples = 4\\nvalue = [4, 0]'),\n",
              " Text(837.0, 391.392, 'X[3] <= -0.78\\ngini = 0.5\\nsamples = 6\\nvalue = [3, 3]'),\n",
              " Text(753.3000000000001, 304.41599999999994, 'X[1] <= 0.89\\ngini = 0.444\\nsamples = 3\\nvalue = [1, 2]'),\n",
              " Text(711.45, 217.44000000000005, 'gini = 0.0\\nsamples = 1\\nvalue = [0, 1]'),\n",
              " Text(795.15, 217.44000000000005, 'X[0] <= 0.195\\ngini = 0.5\\nsamples = 2\\nvalue = [1, 1]'),\n",
              " Text(753.3000000000001, 130.46399999999994, 'gini = 0.0\\nsamples = 1\\nvalue = [1, 0]'),\n",
              " Text(837.0, 130.46399999999994, 'gini = 0.0\\nsamples = 1\\nvalue = [0, 1]'),\n",
              " Text(920.7, 304.41599999999994, 'X[0] <= 0.195\\ngini = 0.444\\nsamples = 3\\nvalue = [2, 1]'),\n",
              " Text(878.85, 217.44000000000005, 'gini = 0.5\\nsamples = 2\\nvalue = [1, 1]'),\n",
              " Text(962.5500000000001, 217.44000000000005, 'gini = 0.0\\nsamples = 1\\nvalue = [1, 0]'),\n",
              " Text(795.15, 565.344, 'gini = 0.0\\nsamples = 2\\nvalue = [0, 2]')]"
            ]
          },
          "metadata": {
            "tags": []
          },
          "execution_count": 26
        },
        {
          "output_type": "display_data",
          "data": {
            "image/png": "[encoded data removed]",
            "text/plain": [
              "<Figure size 1296x1152 with 1 Axes>"
            ]
          },
          "metadata": {
            "tags": [],
            "needs_background": "light"
          }
        }
      ]
    },
    {
      "cell_type": "code",
      "metadata": {
        "id": "jqXuA27_UTOt"
      },
      "source": [
        "from collections import OrderedDict\n",
        "from sklearn.datasets import make_classification"
      ],
      "execution_count": null,
      "outputs": []
    },
    {
      "cell_type": "code",
      "metadata": {
        "id": "a29mtl9WUTOw",
        "outputId": "36a5ec0a-ca47-4327-9a11-4cf47211e729"
      },
      "source": [
        "ensemble_clfs = [\n",
        "    (\"RandomForestClassifier, max_features='sqrt'\",\n",
        "        RandomForestClassifier(warm_start=True, oob_score=True, max_features=\"sqrt\",   random_state=0)),\n",
        "    (\"RandomForestClassifier, max_features='log2'\",\n",
        "        RandomForestClassifier(warm_start=True, max_features='log2',oob_score=True,  random_state=0)),\n",
        "    (\"RandomForestClassifier, max_features=None\",\n",
        "        RandomForestClassifier(warm_start=True, max_features=None, oob_score=True,  random_state=0))\n",
        "]\n",
        "\n",
        "# Map a classifier name to a list of (<n_estimators>, <error rate>) pairs.\n",
        "error_rate = OrderedDict((label, []) for label, _ in ensemble_clfs)\n",
        "\n",
        "# Range of `n_estimators` values to explore.\n",
        "min_estimators = 15\n",
        "max_estimators = 175\n",
        "\n",
        "\n",
        "plt.figure(figsize=(14, 8))\n",
        "\n",
        "for label, clf in ensemble_clfs:\n",
        "    for i in range(min_estimators, max_estimators + 1):\n",
        "        clf.set_params(n_estimators=i)\n",
        "        clf.fit(X, y)\n",
        "\n",
        "        # Record the OOB error for each `n_estimators=i` setting.\n",
        "        oob_error = 1 - clf.oob_score_\n",
        "        error_rate[label].append((i, oob_error))\n",
        "\n",
        "# Generate the \"OOB error rate\" vs. \"n_estimators\" plot.\n",
        "for label, clf_err in error_rate.items():\n",
        "    xs, ys = zip(*clf_err)\n",
        "    plt.plot(xs, ys, label=label)\n",
        "\n",
        "\n",
        "plt.xlim(min_estimators, max_estimators)\n",
        "plt.xlabel(\"n_estimators\", fontsize = 12)\n",
        "plt.ylabel(\"Out-Of-Bag (OOB) error rate\", fontsize = 12)\n",
        "plt.legend(loc=\"upper right\", fontsize = 12)\n",
        "plt.show()"
      ],
      "execution_count": null,
      "outputs": [
        {
          "output_type": "display_data",
          "data": {
            "image/png": "[encoded data removed]",
            "text/plain": [
              "<Figure size 1008x576 with 1 Axes>"
            ]
          },
          "metadata": {
            "tags": [],
            "needs_background": "light"
          }
        }
      ]
    },
    {
      "cell_type": "code",
      "metadata": {
        "id": "ZAhWMGVtUTO1"
      },
      "source": [
        ""
      ],
      "execution_count": null,
      "outputs": []
    },
    {
      "cell_type": "markdown",
      "metadata": {
        "id": "g6L0KOZBUTO3"
      },
      "source": [
        "##  Model Measurements "
      ]
    },
    {
      "cell_type": "markdown",
      "metadata": {
        "id": "ou2HdDElUTO4"
      },
      "source": [
        "### Confusion Matrix"
      ]
    },
    {
      "cell_type": "code",
      "metadata": {
        "id": "gxqnuLCNUTO4",
        "outputId": "1e1cb0b9-20b2-47ec-8ed3-89df0abcb187"
      },
      "source": [
        "from sklearn.metrics import confusion_matrix\n",
        "\n",
        "CM = confusion_matrix(y_test, y_pred)\n",
        "print(CM)"
      ],
      "execution_count": null,
      "outputs": [
        {
          "output_type": "stream",
          "text": [
            "[[4 2]\n",
            " [5 6]]\n"
          ],
          "name": "stdout"
        }
      ]
    },
    {
      "cell_type": "code",
      "metadata": {
        "id": "vMqpfq0-UTO7",
        "outputId": "c14dc9ea-35a1-4441-ab53-17f442eba7b8"
      },
      "source": [
        "# plot confusion matrix\n",
        "\n",
        "score = RF_classifier.score(X, y)\n",
        "\n",
        "plt.figure(figsize=(8, 6))\n",
        "sns.heatmap(CM, annot=True, fmt=\".0f\", linewidths=0.5, square = True, cmap = 'Blues');\n",
        "plt.ylabel('Actual label', fontsize = 12);\n",
        "plt.xlabel('Predicted label', fontsize = 12);\n",
        "plt.title('Accuracy Score: {}'.format(score), size = 12);\n",
        "plt.tick_params(labelsize= 12)"
      ],
      "execution_count": null,
      "outputs": [
        {
          "output_type": "display_data",
          "data": {
            "image/png": "[encoded data removed]",
            "text/plain": [
              "<Figure size 576x432 with 2 Axes>"
            ]
          },
          "metadata": {
            "tags": [],
            "needs_background": "light"
          }
        }
      ]
    },
    {
      "cell_type": "markdown",
      "metadata": {
        "id": "VDh095VjUTO-"
      },
      "source": [
        "###  Confusion Matrix TP,TN,FP,FN"
      ]
    },
    {
      "cell_type": "code",
      "metadata": {
        "id": "sQI4-CwJUTO_"
      },
      "source": [
        "# True - negative, positive, False - Positive, negative\n",
        "TN, FP, FN, TP = CM.ravel()"
      ],
      "execution_count": null,
      "outputs": []
    },
    {
      "cell_type": "code",
      "metadata": {
        "id": "z_Jx5yFvUTPC",
        "outputId": "81bcd0f5-29b9-43a4-a331-ad37d8b4aa9c"
      },
      "source": [
        "print(\"True Positives(TP) = \", TP)"
      ],
      "execution_count": null,
      "outputs": [
        {
          "output_type": "stream",
          "text": [
            "True Positives(TP) =  6\n"
          ],
          "name": "stdout"
        }
      ]
    },
    {
      "cell_type": "code",
      "metadata": {
        "id": "JFXVZ5hxUTPF",
        "outputId": "1272e14c-69b4-4914-8733-603b8df818d2"
      },
      "source": [
        "print(\"True Negatives(TN) = \", TN)"
      ],
      "execution_count": null,
      "outputs": [
        {
          "output_type": "stream",
          "text": [
            "True Negatives(TN) =  4\n"
          ],
          "name": "stdout"
        }
      ]
    },
    {
      "cell_type": "code",
      "metadata": {
        "id": "6eNDA825UTPH",
        "outputId": "7ea50a19-21b7-43ea-afc2-a8b68bef9fb6"
      },
      "source": [
        "print(\"False Positives(FP) = \", FP)"
      ],
      "execution_count": null,
      "outputs": [
        {
          "output_type": "stream",
          "text": [
            "False Positives(FP) =  2\n"
          ],
          "name": "stdout"
        }
      ]
    },
    {
      "cell_type": "code",
      "metadata": {
        "id": "nkZ7VMj5UTPK",
        "outputId": "08353967-57ad-4552-84ae-1b42b2230e73"
      },
      "source": [
        "print(\"False Negative(FN) = \", FN)"
      ],
      "execution_count": null,
      "outputs": [
        {
          "output_type": "stream",
          "text": [
            "False Negative(FN) =  5\n"
          ],
          "name": "stdout"
        }
      ]
    },
    {
      "cell_type": "markdown",
      "metadata": {
        "id": "yEcyNlW4UTPN"
      },
      "source": [
        "### Precision - Recall"
      ]
    },
    {
      "cell_type": "code",
      "metadata": {
        "id": "C7lXfHblUTPN",
        "outputId": "b9f6bb7d-36cf-4a0c-fa69-c5e52cf595e0"
      },
      "source": [
        "Precision = TP/ (TP + FP)\n",
        "\n",
        "print(\"Precision = \", Precision)"
      ],
      "execution_count": null,
      "outputs": [
        {
          "output_type": "stream",
          "text": [
            "Precision =  0.75\n"
          ],
          "name": "stdout"
        }
      ]
    },
    {
      "cell_type": "code",
      "metadata": {
        "id": "RanZ7vevUTPP",
        "outputId": "3764e149-e037-49a7-aa29-fcfb52982eda"
      },
      "source": [
        "Recall = TP/ (TP + FN)\n",
        "\n",
        "print(\"Recall = \", Recall)"
      ],
      "execution_count": null,
      "outputs": [
        {
          "output_type": "stream",
          "text": [
            "Recall =  0.5454545454545454\n"
          ],
          "name": "stdout"
        }
      ]
    },
    {
      "cell_type": "code",
      "metadata": {
        "id": "hgubUMlJUTPR",
        "outputId": "9e3918f0-1e50-4389-8afc-309bc4444a85"
      },
      "source": [
        "from sklearn.metrics import precision_recall_curve\n",
        "from sklearn.metrics import plot_precision_recall_curve\n",
        "\n",
        "disp = plot_precision_recall_curve(RF_classifier, X_test, y_test)\n",
        "disp.ax_.set_title('2-class Precision-Recall curve: ' 'AP={0:0.2f}'.format(Precision))"
      ],
      "execution_count": null,
      "outputs": [
        {
          "output_type": "execute_result",
          "data": {
            "text/plain": [
              "Text(0.5, 1.0, '2-class Precision-Recall curve: AP=0.75')"
            ]
          },
          "metadata": {
            "tags": []
          },
          "execution_count": 38
        },
        {
          "output_type": "display_data",
          "data": {
            "image/png": "[encoded data removed]",
            "text/plain": [
              "<Figure size 432x288 with 1 Axes>"
            ]
          },
          "metadata": {
            "tags": [],
            "needs_background": "light"
          }
        }
      ]
    },
    {
      "cell_type": "code",
      "metadata": {
        "id": "FHFDw8znUTPU"
      },
      "source": [
        ""
      ],
      "execution_count": null,
      "outputs": []
    },
    {
      "cell_type": "markdown",
      "metadata": {
        "id": "JWuk6gwBUTPW"
      },
      "source": [
        "### F1 - Score"
      ]
    },
    {
      "cell_type": "code",
      "metadata": {
        "id": "rSbI78P4UTPW",
        "outputId": "68e4ad00-7e18-4a9a-b9d9-cb58472a1b7a"
      },
      "source": [
        "F1_Score = TP/ (TP + 0.5*(FP + FN)) \n",
        "\n",
        "print(\"F1 - Score = \", F1_Score)"
      ],
      "execution_count": null,
      "outputs": [
        {
          "output_type": "stream",
          "text": [
            "F1 - Score =  0.631578947368421\n"
          ],
          "name": "stdout"
        }
      ]
    },
    {
      "cell_type": "code",
      "metadata": {
        "id": "rpNvrqJSUTPY"
      },
      "source": [
        ""
      ],
      "execution_count": null,
      "outputs": []
    },
    {
      "cell_type": "markdown",
      "metadata": {
        "id": "3vGUlv0fUTPa"
      },
      "source": [
        "### Accuracy Score"
      ]
    },
    {
      "cell_type": "code",
      "metadata": {
        "id": "cuEqJtuIUTPa",
        "outputId": "2f16e35b-941f-4d24-8aa7-284fcfb695e2"
      },
      "source": [
        "Accuracy = (TP + TN)/(TP + TN + FP + FN)\n",
        "\n",
        "print(\"Accuracy = \", Accuracy)"
      ],
      "execution_count": null,
      "outputs": [
        {
          "output_type": "stream",
          "text": [
            "Accuracy =  0.5882352941176471\n"
          ],
          "name": "stdout"
        }
      ]
    },
    {
      "cell_type": "code",
      "metadata": {
        "id": "h-XoSA1NUTPc",
        "outputId": "60b96dcb-d75b-4f9a-a01f-aaf1eaa83708"
      },
      "source": [
        "from sklearn.metrics import accuracy_score\n",
        "\n",
        "accuracy_score(y_test, y_pred)"
      ],
      "execution_count": null,
      "outputs": [
        {
          "output_type": "execute_result",
          "data": {
            "text/plain": [
              "0.5882352941176471"
            ]
          },
          "metadata": {
            "tags": []
          },
          "execution_count": 41
        }
      ]
    },
    {
      "cell_type": "code",
      "metadata": {
        "id": "gs8AxxlrUTPe"
      },
      "source": [
        ""
      ],
      "execution_count": null,
      "outputs": []
    },
    {
      "cell_type": "code",
      "metadata": {
        "id": "VL81vjESUTPh",
        "outputId": "c583f267-ef8b-4088-fca2-60722b7435e5"
      },
      "source": [
        "#  Logistic Regression our model Score\n",
        "\n",
        "RF_classifier.score(X, y)"
      ],
      "execution_count": null,
      "outputs": [
        {
          "output_type": "execute_result",
          "data": {
            "text/plain": [
              "0.5151515151515151"
            ]
          },
          "metadata": {
            "tags": []
          },
          "execution_count": 42
        }
      ]
    },
    {
      "cell_type": "markdown",
      "metadata": {
        "id": "FkstGRzLUTPi"
      },
      "source": [
        "### Classification_report"
      ]
    },
    {
      "cell_type": "code",
      "metadata": {
        "id": "32KWQ6poUTPj",
        "outputId": "6d4685cc-1c5d-4d57-8cb9-75020c39e273"
      },
      "source": [
        "from sklearn import metrics\n",
        "\n",
        "print (metrics.classification_report(y_test, y_pred))"
      ],
      "execution_count": null,
      "outputs": [
        {
          "output_type": "stream",
          "text": [
            "              precision    recall  f1-score   support\n",
            "\n",
            "           0       0.44      0.67      0.53         6\n",
            "           1       0.75      0.55      0.63        11\n",
            "\n",
            "    accuracy                           0.59        17\n",
            "   macro avg       0.60      0.61      0.58        17\n",
            "weighted avg       0.64      0.59      0.60        17\n",
            "\n"
          ],
          "name": "stdout"
        }
      ]
    },
    {
      "cell_type": "markdown",
      "metadata": {
        "id": "h_Z8z_z2UTPm"
      },
      "source": [
        "### Conclusion and Observations "
      ]
    },
    {
      "cell_type": "markdown",
      "metadata": {
        "id": "yxQ4WASlUTPm"
      },
      "source": [
        "After Gender datasat Importing, Fit our dataset in our model, and test our model using predicted and Gender classify Male or Female with Accuracy is 0.52 percent. We can determine using our Random Forest classification model prediction is 50 percent chanse to get sucesss or fail our prediction value."
      ]
    }
  ]
}